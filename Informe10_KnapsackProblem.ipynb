{
  "nbformat": 4,
  "nbformat_minor": 0,
  "metadata": {
    "colab": {
      "provenance": [],
      "authorship_tag": "ABX9TyNuRoW9HXgu9cH1GXn1/cbC",
      "include_colab_link": true
    },
    "kernelspec": {
      "name": "python3",
      "display_name": "Python 3"
    },
    "language_info": {
      "name": "python"
    }
  },
  "cells": [
    {
      "cell_type": "markdown",
      "metadata": {
        "id": "view-in-github",
        "colab_type": "text"
      },
      "source": [
        "<a href=\"https://colab.research.google.com/github/ramimagnatera/ADA-informes/blob/main/Informe10_KnapsackProblem.ipynb\" target=\"_parent\"><img src=\"https://colab.research.google.com/assets/colab-badge.svg\" alt=\"Open In Colab\"/></a>"
      ]
    },
    {
      "cell_type": "markdown",
      "source": [
        "# 1. Descripción del Problema\n",
        "\n",
        "El Problema de la Mochila es un problema clásico de optimización combinatoria.\n",
        "La optimización es fundamental para cualquier problema relacionado con la toma de decisiones. La tarea de tomar decisiones implica elegir entre varias alternativas y escoger precisamente la \"mejor\" decisión posible dependiendo del problema. En este caso, estaremos trabajando con el problema llamado \"Problema de la Mochila\" que busca maximizar una ganacia.\n",
        "\n",
        "**Entrada**: *Conjunto de variables independientes $[a_1,a_2,...,a_n]$*\n",
        "\n",
        "**Salida**: *Valor óptimo dependiendo de la función*\n",
        "\n",
        "Un problema de optimización comienza con un conjunto de variables independientes o parámetros, que pueden incluir restricciones que definen los valores aceptables de estas variables. La solución al problema va a estar dada por un conjunto de valores permitidos para las variables independientes en los que la función objetivo asume un valor óptimo. En términos matemáticos, la optimización implica normalmente maximizar o minimizar la función objetivo."
      ],
      "metadata": {
        "id": "ZITy6RG4t6DQ"
      }
    },
    {
      "cell_type": "markdown",
      "source": [
        "#2. Problema de la Mochila \n",
        "\n",
        "El Problema de la Mochila (conocido también como Knapsack Problem) es un problema clásico de la Investigación de Operaciones y en particular de la Programación Entera. En simples palabras, el problema consiste en que se tiene una mochila, la cual tiene una capacidad limitada, y se tienen una serie de elementos los cuales tienen un peso y un valor. Luego el problema consiste en seleccionar un subconjunto de dichos objetos de forma tal que se maximice la ganancia que se obtiene, pero sin sobrepasar la capacidad límite de la mochila.\n",
        "\n",
        "A continuación se muestra un ejemplo del problema clásico de la mochila:\n",
        "\n",
        "<a href=\"https://imgur.com/lKhXKt0\"><img src=\"https://imgur.com/lKhXKt0.png\" title=\"source: imgur.com\" /></a>\n",
        "\n",
        "En este ejemplo tenemos una mochila con una capacidad de $15kg$ y los siguientes objetos con un valor y un peso:\n",
        "\n",
        "1. $4 y 12kg\n",
        "\n",
        "2. $2 y 1kg\n",
        "\n",
        "3. $2 y 2kg \n",
        "\n",
        "4. $1 y 1kg\n",
        "\n",
        "5. $10 y 4kg\n",
        "\n",
        "Y aquí es donde entra el problema, ¿Qué elementos debemos guardar en la mochila para obtener la mayor ganacia sin sobrepasarnos el peso límite de la mochila?, para esto, en este informe se implementaran 2 métodos para resolver este problema: \n",
        "\n",
        "* Método bottom-up (Programación avanzada)\n",
        "\n",
        "* Método greedy\n",
        "\n"
      ],
      "metadata": {
        "id": "1QdNmQZ6t5qh"
      }
    },
    {
      "cell_type": "markdown",
      "source": [
        "\n",
        "##2.1 Descripción del algoritmo bottom-up\n",
        "\n",
        "Para resolver este problema utilizando un algoritmo que aplica programación dinámica, haremos uso de una matriz auxiliar que tendrá las siguientes propiedades: \n",
        "\n",
        "<a href=\"https://imgur.com/H8Kj5KB\"><img src=\"https://imgur.com/H8Kj5KB.png\" title=\"source: imgur.com\" /></a>\n",
        "\n",
        "* definimos la siguiente **sub-estructura óptima**:\n",
        "\n",
        "<a href=\"https://imgur.com/OtszXrG\"><img src=\"https://imgur.com/OtszXrG.png\" title=\"source: imgur.com\" /></a>\n",
        "\n",
        "donde:\n",
        "\n",
        "* `m` = matriz  \n",
        "\n",
        "* `p` = precio\n",
        "\n",
        "* `p[i]`  = precio del objeto actual  \n",
        "\n",
        "* `v[i]` = valor del objeto actual\n",
        "\n",
        "Por lo que para el funcionamiento de este algoritmo, y analizando su sub-estructura óptima, se divide en los 3 siguientes casos: \n",
        "\n",
        "1. En primer caso, si nos encontramos en la fila 0 o columna 0 de la matriz, asignaremos un 0.\n",
        "\n",
        "2. En un segundo caso, si el peso del objeto supera al peso hasta el momento (`p[i] > p`), asignaremos el peso del objeto anterior\n",
        "\n",
        "3. Como tercer y último caso, es cuando el peso del objeto es igual o menor al peso actual (`p[i] =< p`), aquí el valor que asignaremos será el máximo entre 2 opciones: \n",
        "\n",
        " * El valor máximo anterior (Sin aumentar el valor del objeto actual) \n",
        "\n",
        " * El valor del objeto anterior y peso menos el peso del objeto actual, todo esto más el valor del objeto actual.\n",
        "\n",
        "Así, en cada iteración nos iremos quedando con el valor máximo hasta el momento, por lo que al llenar la tabla, se retorna el `m[cantidad de elementos, peso máximo]` (que nos indica la última posición de la tabla)\n",
        "\n"
      ],
      "metadata": {
        "id": "qIx6mznUxwN5"
      }
    },
    {
      "cell_type": "markdown",
      "source": [
        "##2.2 Descripción del algoritmo greedy\n",
        "\n",
        "Lo que realiza el algoritmo greedy para este problema es lo siguiente: \n",
        "\n",
        "1. Calcula una proporción precio/peso para cada objeto y los agrega en una lista. Por lo que ya no vamos a trabajar con una matriz, si no que con la proporción por objeto.\n",
        "\n",
        "2. Ordena dicha lista de mayor a menor, por lo que al inicio nos quedaran los objetos que supuestamente deben ser los más óptimos en precio/peso.\n",
        "\n",
        "3. Se recorre la lista agregando los elementos a la mochila hasta que se supere el peso límite.\n",
        "\n",
        "Este algoritmo no siempre nos entrega el resultado más óptimo para este problema, por lo que no es el más recomendado pese a su bajo tiempo de ejecución, problema que se mostrará más adelante en el informe.\n",
        "\n",
        "\n"
      ],
      "metadata": {
        "id": "EeHL24PGF3IN"
      }
    },
    {
      "cell_type": "markdown",
      "source": [
        "##2.3 Código\n",
        "\n",
        "##Bottom-up\n",
        "\n"
      ],
      "metadata": {
        "id": "hyHNuzNIyGRC"
      }
    },
    {
      "cell_type": "code",
      "execution_count": null,
      "metadata": {
        "colab": {
          "base_uri": "https://localhost:8080/"
        },
        "id": "SVhHaY3Xk31u",
        "outputId": "ca4b25ac-0e75-446e-bb23-a6ea4d267a45"
      },
      "outputs": [
        {
          "output_type": "stream",
          "name": "stdout",
          "text": [
            "Lista de precios y sus pesos: \n",
            "$ 60 y 1 kg\n",
            "$ 100 y 2 kg\n",
            "$ 120 y 3 kg\n",
            "Con una capacidad máxima de 5 kg\n",
            "\n",
            "Máxima ganacia alcanzada: 220 con 24 subproblemas a resolver\n"
          ]
        }
      ],
      "source": [
        "def knapSackBottom(W, wt, val, n, verbose):\n",
        "    # Matriz de auxiliar de 0\n",
        "    K = [[0 for x in range(W + 1)] for x in range(n + 1)]\n",
        "\n",
        "    cant = 0\n",
        "\n",
        "    if verbose == True: \n",
        "      print(\"Matriz inicial:\")\n",
        "      for j in K:\n",
        "        print(j)\n",
        "      print(\"\\n\")\n",
        "\n",
        "    for i in range(n + 1):\n",
        "        if verbose == True: print(\"Indice número: \",i,end=\"\\n\\n\")\n",
        "        for w in range(W + 1):\n",
        "            if verbose == True: print(\"Peso número: \",w,end=\"\\n\\n\")\n",
        "            # Caso 1\n",
        "            if i == 0 or w == 0:\n",
        "                K[i][w] = 0\n",
        "                if verbose == True:\n",
        "                  print(\"Entrando al primer caso: \")\n",
        "                  for j in K:\n",
        "                    print(j)\n",
        "                  print(\"\\n\")\n",
        "            # Caso 2 \n",
        "            elif wt[i-1] <= w:\n",
        "                K[i][w] = max(val[i-1] + K[i-1][w-wt[i-1]], K[i-1][w])\n",
        "                \n",
        "                if verbose == True: \n",
        "                  print(\"Entrando al segundo caso: \")\n",
        "                  for j in K:\n",
        "                    print(j)\n",
        "                  print(\"\\n\")\n",
        "                \n",
        "            # Caso 3\n",
        "            else:\n",
        "                K[i][w] = K[i-1][w]\n",
        "                if verbose == True: \n",
        "                  print(\"Entrando al tercer caso: \")\n",
        "                  for j in K:\n",
        "                    print(j)\n",
        "                  print(\"\\n\")\n",
        "            cant+=1\n",
        "\n",
        "    return K[n][W],cant\n",
        "\n",
        "# Driver code\n",
        "val = [60, 100, 120]\n",
        "wt = [1, 2, 3]\n",
        "W = 5\n",
        "n = len(val)\n",
        "print(\"Lista de precios y sus pesos: \")\n",
        "for i in range(3):\n",
        "  print(\"$\",val[i],\"y\",wt[i],\"kg\")\n",
        "print(\"Con una capacidad máxima de\",W,\"kg\\n\")\n",
        "\n",
        "val_max , cantsubproblemas = knapSackBottom(W, wt, val, n, False)\n",
        "\n",
        "print(\"Máxima ganacia alcanzada:\",val_max,\"con\",cantsubproblemas,\"subproblemas a resolver\")"
      ]
    },
    {
      "cell_type": "markdown",
      "source": [
        "## Greedy"
      ],
      "metadata": {
        "id": "3ZsAcFVDaXQ8"
      }
    },
    {
      "cell_type": "code",
      "source": [
        "import operator\n",
        "def fractionalKnapsack(W, wt, val, n, verbose):\n",
        "    \n",
        "    arr = {}\n",
        "    cont = 0\n",
        "    \n",
        "    # Obtenemos el porcentaje precio/peso para cada elemento y lo guardamos en un arreglo auxiliar\n",
        "    for i in range(n):\n",
        "      num = val[i] / wt[i]\n",
        "      arr[i] = num\n",
        "      cont+=1 \n",
        "\n",
        "    # Ordenamos el arreglo de mayor a menor\n",
        "    arr = sorted(arr.items(), key = operator.itemgetter(1), reverse=True)   \n",
        "\n",
        "    max_value = 0\n",
        "    for item in enumerate(arr):\n",
        "        cont+=1\n",
        "        if wt[item[1][0]] <= W:\n",
        "          max_value += val[item[1][0]]\n",
        "          W -= wt[item[1][0]]\n",
        "\n",
        "    return max_value, cont\n",
        " \n",
        "\n",
        "val = [60, 100, 120]\n",
        "wt = [1, 2, 3]\n",
        "W = 5\n",
        "n = len(val)\n",
        "print(\"Lista de precios y sus pesos: \")\n",
        "for i in range(3):\n",
        "  print(\"$\",val[i],\"y\",wt[i],\"kg\")\n",
        "print(\"Con una capacidad máxima de\",W,\"kg\\n\")\n",
        "\n",
        "val_max1,cantsubproblemas1 = fractionalKnapsack(W, wt, val, n, False)\n",
        "\n",
        "print(\"Máxima ganacia alcanzada:\",val_max1,\"con\",cantsubproblemas1,\"subproblemas a resolver\")"
      ],
      "metadata": {
        "colab": {
          "base_uri": "https://localhost:8080/"
        },
        "id": "w-BxSV_jaTo8",
        "outputId": "d6f94a9f-e07f-4ec4-f63d-ec2561ff293c"
      },
      "execution_count": null,
      "outputs": [
        {
          "output_type": "stream",
          "name": "stdout",
          "text": [
            "Lista de precios y sus pesos: \n",
            "$ 60 y 1 kg\n",
            "$ 100 y 2 kg\n",
            "$ 120 y 3 kg\n",
            "Con una capacidad máxima de 5 kg\n",
            "\n",
            "Máxima ganacia alcanzada: 160 con 6 subproblemas a resolver\n"
          ]
        }
      ]
    },
    {
      "cell_type": "markdown",
      "source": [
        "##2.4. Ejecución del algoritmo paso a paso con verbose = True"
      ],
      "metadata": {
        "id": "_kS4M56m7ACS"
      }
    },
    {
      "cell_type": "code",
      "source": [
        "val = [60, 100, 120]\n",
        "wt = [1, 2, 3]\n",
        "W = 5\n",
        "n = len(val)\n",
        "print(\"Lista de precios y sus pesos: \")\n",
        "for i in range(3):\n",
        "  print(\"$\",val[i],\"y\",wt[i],\"kg\")\n",
        "print(\"Con una capacidad máxima de\",W,\"kg\\n\")\n",
        "max_val, cant = knapSackBottom(W, wt, val, n, True)\n",
        "print(\"Máxima ganacia alcanzada:\",max_val,\"con\",cant,\"subproblemas a resolver\")"
      ],
      "metadata": {
        "id": "bu2J9cUkuzRv",
        "colab": {
          "base_uri": "https://localhost:8080/"
        },
        "outputId": "e59526c3-2258-4ac8-e54c-64674e28034d"
      },
      "execution_count": null,
      "outputs": [
        {
          "output_type": "stream",
          "name": "stdout",
          "text": [
            "Lista de precios y sus pesos: \n",
            "$ 60 y 1 kg\n",
            "$ 100 y 2 kg\n",
            "$ 120 y 3 kg\n",
            "Con una capacidad máxima de 5 kg\n",
            "\n",
            "Matriz inicial:\n",
            "[0, 0, 0, 0, 0, 0]\n",
            "[0, 0, 0, 0, 0, 0]\n",
            "[0, 0, 0, 0, 0, 0]\n",
            "[0, 0, 0, 0, 0, 0]\n",
            "\n",
            "\n",
            "Indice número:  0\n",
            "\n",
            "Peso número:  0\n",
            "\n",
            "Entrando al primer caso: \n",
            "[0, 0, 0, 0, 0, 0]\n",
            "[0, 0, 0, 0, 0, 0]\n",
            "[0, 0, 0, 0, 0, 0]\n",
            "[0, 0, 0, 0, 0, 0]\n",
            "\n",
            "\n",
            "Peso número:  1\n",
            "\n",
            "Entrando al primer caso: \n",
            "[0, 0, 0, 0, 0, 0]\n",
            "[0, 0, 0, 0, 0, 0]\n",
            "[0, 0, 0, 0, 0, 0]\n",
            "[0, 0, 0, 0, 0, 0]\n",
            "\n",
            "\n",
            "Peso número:  2\n",
            "\n",
            "Entrando al primer caso: \n",
            "[0, 0, 0, 0, 0, 0]\n",
            "[0, 0, 0, 0, 0, 0]\n",
            "[0, 0, 0, 0, 0, 0]\n",
            "[0, 0, 0, 0, 0, 0]\n",
            "\n",
            "\n",
            "Peso número:  3\n",
            "\n",
            "Entrando al primer caso: \n",
            "[0, 0, 0, 0, 0, 0]\n",
            "[0, 0, 0, 0, 0, 0]\n",
            "[0, 0, 0, 0, 0, 0]\n",
            "[0, 0, 0, 0, 0, 0]\n",
            "\n",
            "\n",
            "Peso número:  4\n",
            "\n",
            "Entrando al primer caso: \n",
            "[0, 0, 0, 0, 0, 0]\n",
            "[0, 0, 0, 0, 0, 0]\n",
            "[0, 0, 0, 0, 0, 0]\n",
            "[0, 0, 0, 0, 0, 0]\n",
            "\n",
            "\n",
            "Peso número:  5\n",
            "\n",
            "Entrando al primer caso: \n",
            "[0, 0, 0, 0, 0, 0]\n",
            "[0, 0, 0, 0, 0, 0]\n",
            "[0, 0, 0, 0, 0, 0]\n",
            "[0, 0, 0, 0, 0, 0]\n",
            "\n",
            "\n",
            "Indice número:  1\n",
            "\n",
            "Peso número:  0\n",
            "\n",
            "Entrando al primer caso: \n",
            "[0, 0, 0, 0, 0, 0]\n",
            "[0, 0, 0, 0, 0, 0]\n",
            "[0, 0, 0, 0, 0, 0]\n",
            "[0, 0, 0, 0, 0, 0]\n",
            "\n",
            "\n",
            "Peso número:  1\n",
            "\n",
            "Entrando al segundo caso: \n",
            "[0, 0, 0, 0, 0, 0]\n",
            "[0, 60, 0, 0, 0, 0]\n",
            "[0, 0, 0, 0, 0, 0]\n",
            "[0, 0, 0, 0, 0, 0]\n",
            "\n",
            "\n",
            "Peso número:  2\n",
            "\n",
            "Entrando al segundo caso: \n",
            "[0, 0, 0, 0, 0, 0]\n",
            "[0, 60, 60, 0, 0, 0]\n",
            "[0, 0, 0, 0, 0, 0]\n",
            "[0, 0, 0, 0, 0, 0]\n",
            "\n",
            "\n",
            "Peso número:  3\n",
            "\n",
            "Entrando al segundo caso: \n",
            "[0, 0, 0, 0, 0, 0]\n",
            "[0, 60, 60, 60, 0, 0]\n",
            "[0, 0, 0, 0, 0, 0]\n",
            "[0, 0, 0, 0, 0, 0]\n",
            "\n",
            "\n",
            "Peso número:  4\n",
            "\n",
            "Entrando al segundo caso: \n",
            "[0, 0, 0, 0, 0, 0]\n",
            "[0, 60, 60, 60, 60, 0]\n",
            "[0, 0, 0, 0, 0, 0]\n",
            "[0, 0, 0, 0, 0, 0]\n",
            "\n",
            "\n",
            "Peso número:  5\n",
            "\n",
            "Entrando al segundo caso: \n",
            "[0, 0, 0, 0, 0, 0]\n",
            "[0, 60, 60, 60, 60, 60]\n",
            "[0, 0, 0, 0, 0, 0]\n",
            "[0, 0, 0, 0, 0, 0]\n",
            "\n",
            "\n",
            "Indice número:  2\n",
            "\n",
            "Peso número:  0\n",
            "\n",
            "Entrando al primer caso: \n",
            "[0, 0, 0, 0, 0, 0]\n",
            "[0, 60, 60, 60, 60, 60]\n",
            "[0, 0, 0, 0, 0, 0]\n",
            "[0, 0, 0, 0, 0, 0]\n",
            "\n",
            "\n",
            "Peso número:  1\n",
            "\n",
            "Entrando al tercer caso: \n",
            "[0, 0, 0, 0, 0, 0]\n",
            "[0, 60, 60, 60, 60, 60]\n",
            "[0, 60, 0, 0, 0, 0]\n",
            "[0, 0, 0, 0, 0, 0]\n",
            "\n",
            "\n",
            "Peso número:  2\n",
            "\n",
            "Entrando al segundo caso: \n",
            "[0, 0, 0, 0, 0, 0]\n",
            "[0, 60, 60, 60, 60, 60]\n",
            "[0, 60, 100, 0, 0, 0]\n",
            "[0, 0, 0, 0, 0, 0]\n",
            "\n",
            "\n",
            "Peso número:  3\n",
            "\n",
            "Entrando al segundo caso: \n",
            "[0, 0, 0, 0, 0, 0]\n",
            "[0, 60, 60, 60, 60, 60]\n",
            "[0, 60, 100, 160, 0, 0]\n",
            "[0, 0, 0, 0, 0, 0]\n",
            "\n",
            "\n",
            "Peso número:  4\n",
            "\n",
            "Entrando al segundo caso: \n",
            "[0, 0, 0, 0, 0, 0]\n",
            "[0, 60, 60, 60, 60, 60]\n",
            "[0, 60, 100, 160, 160, 0]\n",
            "[0, 0, 0, 0, 0, 0]\n",
            "\n",
            "\n",
            "Peso número:  5\n",
            "\n",
            "Entrando al segundo caso: \n",
            "[0, 0, 0, 0, 0, 0]\n",
            "[0, 60, 60, 60, 60, 60]\n",
            "[0, 60, 100, 160, 160, 160]\n",
            "[0, 0, 0, 0, 0, 0]\n",
            "\n",
            "\n",
            "Indice número:  3\n",
            "\n",
            "Peso número:  0\n",
            "\n",
            "Entrando al primer caso: \n",
            "[0, 0, 0, 0, 0, 0]\n",
            "[0, 60, 60, 60, 60, 60]\n",
            "[0, 60, 100, 160, 160, 160]\n",
            "[0, 0, 0, 0, 0, 0]\n",
            "\n",
            "\n",
            "Peso número:  1\n",
            "\n",
            "Entrando al tercer caso: \n",
            "[0, 0, 0, 0, 0, 0]\n",
            "[0, 60, 60, 60, 60, 60]\n",
            "[0, 60, 100, 160, 160, 160]\n",
            "[0, 60, 0, 0, 0, 0]\n",
            "\n",
            "\n",
            "Peso número:  2\n",
            "\n",
            "Entrando al tercer caso: \n",
            "[0, 0, 0, 0, 0, 0]\n",
            "[0, 60, 60, 60, 60, 60]\n",
            "[0, 60, 100, 160, 160, 160]\n",
            "[0, 60, 100, 0, 0, 0]\n",
            "\n",
            "\n",
            "Peso número:  3\n",
            "\n",
            "Entrando al segundo caso: \n",
            "[0, 0, 0, 0, 0, 0]\n",
            "[0, 60, 60, 60, 60, 60]\n",
            "[0, 60, 100, 160, 160, 160]\n",
            "[0, 60, 100, 160, 0, 0]\n",
            "\n",
            "\n",
            "Peso número:  4\n",
            "\n",
            "Entrando al segundo caso: \n",
            "[0, 0, 0, 0, 0, 0]\n",
            "[0, 60, 60, 60, 60, 60]\n",
            "[0, 60, 100, 160, 160, 160]\n",
            "[0, 60, 100, 160, 180, 0]\n",
            "\n",
            "\n",
            "Peso número:  5\n",
            "\n",
            "Entrando al segundo caso: \n",
            "[0, 0, 0, 0, 0, 0]\n",
            "[0, 60, 60, 60, 60, 60]\n",
            "[0, 60, 100, 160, 160, 160]\n",
            "[0, 60, 100, 160, 180, 220]\n",
            "\n",
            "\n",
            "Máxima ganacia alcanzada: 220 con 24 subproblemas a resolver\n"
          ]
        }
      ]
    },
    {
      "cell_type": "markdown",
      "source": [
        "# 3. Tiempo de ejecución\n",
        "\n",
        "### **Teorema (Tiempo de ejecución método bottom-up).**\n",
        "\n",
        "*El algoritmo dinámico para el **Problema de la mochila** tiene un **tiempo de ejecución de** $O(n*w)$ siendo \"n\" la cantidad de elementos y \"w\" la variable peso.*\n",
        "\n",
        "## Prueba del teorema\n",
        "\n",
        "Para probar el teorema, podemos hacerlo viendo lo que realiza el algoritmo:\n",
        "\n",
        "<a href=\"https://imgur.com/KcOMfZV\"><img src=\"https://imgur.com/KcOMfZV.png\" title=\"source: imgur.com\" /></a>\n",
        "\n",
        "En donde vemos dos ciclos anidados, el primero que va desde 0 hasta n\n",
        "\n",
        "* Que nos da una complejidad de $O(n)$\n",
        "\n",
        "Y el segundo ciclo for que va desde 0 hasta w\n",
        "\n",
        "* Que nos da una complejidad de $O(w)$\n",
        "\n",
        "Y dentro de cada ciclo tenemos acciones de complejidad constante, por lo que finalmente nos queda que el tiempo de ejecución del algoritmo es: $O(n*w)$\n",
        "\n",
        "\n",
        "### **Teorema (Tiempo de ejecución método greedy).**\n",
        "\n",
        "*El algoritmo dinámico para el **Problema de la mochila** tiene un **tiempo de ejecución de** $O(n*log(n))$* \n",
        "\n",
        "## Prueba del teorema\n",
        "\n",
        "De la misma forma que el el teorema anterior, podemos obtener su tiempo de ejecución luego de ver su código, donde tenemos lo siguiente:\n",
        "\n",
        "<a href=\"https://imgur.com/Hc0Mpwx\"><img src=\"https://imgur.com/Hc0Mpwx.png\" title=\"source: imgur.com\" /></a>\n",
        "\n",
        "En donde tenemos los siguientes procedimientos, el primero, al momento de ordenar los elementos:\n",
        "\n",
        "* Que nos da una complejidad de $O(nlog(n))$\n",
        "\n",
        "Y el segundo ciclo, que es utilizado para buscal la solución óptima, va desde 0 hasta n\n",
        "\n",
        "* Que nos da una complejidad de $O(n)$\n",
        "\n",
        "Y dentro de cada ciclo tenemos acciones de complejidad constante, por lo que finalmente nos queda que el tiempo de ejecución del algoritmo es: $O(nlog(n))$\n",
        "\n",
        "\n",
        "\n"
      ],
      "metadata": {
        "id": "5XsT6q0fXaSa"
      }
    },
    {
      "cell_type": "markdown",
      "source": [
        "# 4. Correctitud \n",
        "\n",
        "### **Teorema**\n",
        "\n",
        "*El algoritmo dinámico que resuelve **Problema de la mochila** para entradas de tamaño n y para una capacidad P retorna el beneficio máximo para un subproblema óptimo encontrado.*\n",
        "\n",
        "## Prueba del Teorema (Programación dinámica) \n",
        "\n",
        "Para probar el teorema lo haremos de las siguientes maneras:\n",
        "\n",
        "**1.-) Analizando que ocurre con su subestructura óptima:**\n",
        "\n",
        "<a href=\"https://imgur.com/OtszXrG\"><img src=\"https://imgur.com/OtszXrG.png\" title=\"source: imgur.com\" /></a>\n",
        "\n",
        "* En el caso 2, nos aseguramos que el peso en cuestión no sobrepase el peso permitido por la mochila\n",
        "\n",
        "* En el caso 3, nos aseguramos de constantemente ir guardando el precio máximo hasta el momento\n",
        "\n",
        "Por lo que con estás dos restricciones, podemos comprobar que el algoritmo es correcto para todo caso.\n",
        "\n",
        "\n",
        "**2.-) Mediante la inducción matemática:**\n",
        "\n",
        "**Caso Base (n = 1):**\n",
        "\n",
        "Se considera el primer elemento (i = 1) como solucion optima (única hasta el momento).\n",
        "\n",
        "**Paso inductivo (n != 1):**\n",
        "\n",
        "La solución optima se basa en la resolución de los subproblemas anteriores y la formula de la subestructura óptima. Lo que nos asegura su correcto funcionamiento.\n",
        "\n",
        "## Prueba del Teorema (greedy) \n",
        "\n",
        "Por otro lado, tenemos la correctitud del **algoritmo greedy**:\n",
        "\n",
        "Analizando su modo de operación, el algoritmo agrega a la ganancia los objetos que tengan mejor proporcion (precio/peso). Sin embargo, el principal problema de este algoritmo, es que si se topa con un objeto cuyo peso supera la capacidad, éste dejara de operar, por lo que puede haberse saltado objetos que aun podian ser agregados pese a no ser los más óptimos en precio/peso.\n",
        "\n",
        "Es por esto, que podemos concluir que el algoritmo greedy para el problema de la mochila no es correcto.\n",
        "\n",
        "\n"
      ],
      "metadata": {
        "id": "-ifxrrqlC4Hc"
      }
    },
    {
      "cell_type": "markdown",
      "source": [
        "# 5. Experimentos\n",
        "\n",
        "## 5.1. Número de comparaciones\n",
        "\n",
        "A continuación se muestra gráficamente una comparación de tiempo de ejecución entre:\n",
        "\n",
        "* Método Bottom-up\n",
        "\n",
        "* Método Greedy\n",
        "\n",
        "Para problemas desde 5 hasta 50 elementos."
      ],
      "metadata": {
        "id": "2hYUM_9OHF38"
      }
    },
    {
      "cell_type": "code",
      "source": [
        "#Generador de Instancias\n",
        "import random\n",
        "\n",
        "def knapsack_instance_generator(N):\n",
        "  val = []\n",
        "  wt = []\n",
        "  prev_v = 0\n",
        "  prev_w = 0\n",
        "  for i in range(N):\n",
        "    v = random.randint(1, 100)\n",
        "    val.append(prev_v + v)\n",
        "    prev_v += v\n",
        "    \n",
        "    w = random.randint(1, 10)\n",
        "    wt.append(prev_w + w)\n",
        "    if (v >= 50):\n",
        "        prev_w += w\n",
        "\n",
        "  W = int(sum(wt) / 2)\n",
        "  return W, val, wt\n",
        "\n",
        "W, val, wt = knapsack_instance_generator(10)"
      ],
      "metadata": {
        "id": "-AFqXeKAuLVe"
      },
      "execution_count": null,
      "outputs": []
    },
    {
      "cell_type": "code",
      "source": [
        "import matplotlib.pyplot as plt\n",
        "import datetime\n",
        "from timeit import repeat\n",
        "\n",
        "x=[]; y=[]; y1=[]\n",
        "verbose = False\n",
        "for n in range(5,50):\n",
        "  W, val, wt = knapsack_instance_generator(n)\n",
        "  n = len(val)\n",
        "  t1 = repeat(setup=\"from __main__ import knapSackBottom\", stmt=f\"knapSackBottom({W}, {wt}, {val}, {n}, {verbose})\", repeat=1, number=10)\n",
        "  t2 = repeat(setup=\"from __main__ import fractionalKnapsack\", stmt=f\"fractionalKnapsack({W}, {wt}, {val}, {n}, {verbose})\", repeat=1, number=10)\n",
        "\n",
        "  x.append(n)\n",
        "  y.append(t1)\n",
        "  y1.append(t2)\n",
        "\n",
        "plt.plot(x,y)\n",
        "plt.plot(x,y1)\n",
        "plt.legend([\"Bottom-up\",\"Greedy\"])\n",
        "\n",
        "plt.xlabel('n')\n",
        "plt.ylabel('time in ms')\n",
        "plt.show()"
      ],
      "metadata": {
        "id": "LxKv6b1WE-t8",
        "colab": {
          "base_uri": "https://localhost:8080/",
          "height": 279
        },
        "outputId": "db21ed6c-9f2a-4ef3-9fa1-3d4867b956d4"
      },
      "execution_count": null,
      "outputs": [
        {
          "output_type": "display_data",
          "data": {
            "text/plain": [
              "<Figure size 432x288 with 1 Axes>"
            ],
            "image/png": "[encoded data removed]"
          },
          "metadata": {
            "needs_background": "light"
          }
        }
      ]
    },
    {
      "cell_type": "markdown",
      "source": [
        "##Análisis\n",
        "\n",
        "Con respecto al gráfico, podemos la gran diferencia entre ambos algoritmos y asi confirmar su tiempo de ejecución esperado, que por un lado, tenemos al algoritmo utilizando programación dinámica el cual mantiene un tiempo de O(n*w), que nos da la función exponencial vista en azul. Mientras que por otro lado tenemos el algoritmo greedy, que su tiempo de ejecución es de O(nlog(n)), timepo que podemos confirmar en la gráfica. Pese a tener un tiempo menor, debemos recordar que el algoritmo greedy no siempre da el resultado más óptimo posible, si no que en algunos casos da valores menores al real, por lo que pese a tener un tiempo sumamente menor, si queremos obtener el resultado más óptimo posible lo podemos encontrar mediante el algoritmo bottom-up."
      ],
      "metadata": {
        "id": "zuJPIiGWl9Q-"
      }
    },
    {
      "cell_type": "markdown",
      "source": [
        "## 5.1. Número de comparaciones\n",
        "\n",
        "A continuación se muestra gráficamente una comparación de subproblemas resueltos:\n",
        "\n",
        "* Método Bottom-up\n",
        "\n",
        "* Método Greedy\n",
        "\n",
        "Para problemas desde 5 hasta 100 elementos."
      ],
      "metadata": {
        "id": "pSAnaPXrv-NE"
      }
    },
    {
      "cell_type": "code",
      "source": [
        "x=[n for n in range(5,100)]\n",
        "y1=[]\n",
        "y=[] \n",
        "\n",
        "for n in range(5,100):\n",
        "  W, val, wt = knapsack_instance_generator(n)\n",
        "  n = len(val)\n",
        "\n",
        "  val_maxBottom,cantsubproblemasBottom = knapSackBottom(W, wt, val, n, False)\n",
        "  val_maxGreedy,cantsubproblemasGreedy = fractionalKnapsack(W, wt, val, n, False)\n",
        "\n",
        "  y1.append(cantsubproblemasBottom)\n",
        "  y.append(cantsubproblemasGreedy)\n",
        "\n",
        "plt.plot(x,y1)\n",
        "plt.plot(x,y)\n",
        "plt.legend([\"Bottom-up\",\"Greedy\"])\n",
        "\n",
        "plt.xlabel('número de elementos')\n",
        "plt.ylabel('Número de operaciones')\n",
        "plt.show()"
      ],
      "metadata": {
        "id": "iPPCfxn6sLYk",
        "colab": {
          "base_uri": "https://localhost:8080/",
          "height": 279
        },
        "outputId": "0e5fe0d2-f5ad-466f-ed02-1aa06aa63249"
      },
      "execution_count": null,
      "outputs": [
        {
          "output_type": "display_data",
          "data": {
            "text/plain": [
              "<Figure size 432x288 with 1 Axes>"
            ],
            "image/png": "[encoded data removed]"
          },
          "metadata": {
            "needs_background": "light"
          }
        }
      ]
    },
    {
      "cell_type": "markdown",
      "source": [
        "##Análisis\n",
        "\n",
        "Luego de ver el gráfico, vemos que la cantidad de subproblemas a resolver por el algoritmo que aplica programación avanzada es exponencialmente mayor al método greedy. Esto se puede dar debido a que, en el algoritmo bottom-up, se tiene que resolver cada casilla de la matriz auxiliar a utilizar, por lo que si se tienen pesos muy altos, la matriz crece exponencialmente, lo que conlleva a que tenga muchos más subproblemas a resolver, siendo este número dado por n*p problemas a resolver. Por otro lado, el algoritmo greedy obtiene la proporcion de cada objeto y luego trabaja con este mismo valor, por lo que simplifica en gran medida los subproblemas a resolver. "
      ],
      "metadata": {
        "id": "qLABsQKropHw"
      }
    }
  ]
}