{
  "nbformat": 4,
  "nbformat_minor": 0,
  "metadata": {
    "colab": {
      "provenance": [],
      "authorship_tag": "ABX9TyONCSOqzhOsbo1YW02GgX+p",
      "include_colab_link": true
    },
    "kernelspec": {
      "name": "python3",
      "display_name": "Python 3"
    },
    "language_info": {
      "name": "python"
    }
  },
  "cells": [
    {
      "cell_type": "markdown",
      "metadata": {
        "id": "view-in-github",
        "colab_type": "text"
      },
      "source": [
        "<a href=\"https://colab.research.google.com/github/ramimagnatera/ADA-informes/blob/main/Informe7_Corte_de_Varillas.ipynb\" target=\"_parent\"><img src=\"https://colab.research.google.com/assets/colab-badge.svg\" alt=\"Open In Colab\"/></a>"
      ]
    },
    {
      "cell_type": "markdown",
      "source": [
        "# 1. Problema de optimización\n",
        "\n",
        "La optimización es fundamental para cualquier problema relacionado con la toma de decisiones. La tarea de tomar decisiones implica elegir entre varias alternativas y escoger precisamente la \"mejor\" decisión posible dependiendo del problema. En este caso, estaremos trabajando con el problema llamado \"Corte de Varilla\" que busca maximizar una ganacia.\n",
        "\n",
        "**Entrada**: *Conjunto de variables independientes $[a_1,a_2,...,a_n]$*\n",
        "\n",
        "**Salida**: *Valor óptimo dependiendo de la función*\n",
        "\n",
        "Un problema de optimización comienza con un conjunto de variables independientes o parámetros, que pueden incluir restricciones que definen los valores aceptables de estas variables. La solución al problema va a estar dada por un conjunto de valores permitidos para las variables independientes en los que la función objetivo asume un valor óptimo. En términos matemáticos, la optimización implica normalmente maximizar o minimizar la función objetivo."
      ],
      "metadata": {
        "id": "jT2qsbCS3Fzu"
      }
    },
    {
      "cell_type": "markdown",
      "source": [
        "# 2. Corte de Varillas\n"
      ],
      "metadata": {
        "id": "M4SI_VRjdHR3"
      }
    },
    {
      "cell_type": "markdown",
      "source": [
        "## 2.1 Descripción del Algoritmo\n",
        "\n",
        "El algoritmo \"Corte de Varillas\", se basa básicamente en maximizar la ganancia en la venta de una varilla, la cual puede estar tanto entera como por partes, y cada parte teniendo un valor específico, como se muestra en la siguiente imagen:\n",
        "\n",
        "\n",
        "<a href=\"https://imgur.com/4nKBUhXy\"><img src=\"https://imgur.com/4nKBUhX.png\" title=\"source: imgur.com\" /></a>\n",
        "\n",
        "\n",
        "Aca podemos ver un ejemplo donde tenemos una varilla de largo $4, con los siguientes precios dependiendo del tamaño: \n",
        "\n",
        "1. Largo $4$ = 9$\n",
        "\n",
        "2. Largo $3$ = 8$\n",
        "\n",
        "3. Largo $2$ = 5$\n",
        "\n",
        "4. Largo $1$ = 1$\n",
        "\n",
        "Y lo que busca el algoritmo es, dentro de las 8 opciones posibles, la que nos generará un mayor beneficio (mayor precio), que es este caso es la opción $C$, que nos da un total de 10$.\n",
        "\n",
        "Este algoritmo puede implementarse de las siguientes maneras:\n",
        "\n",
        "* *Método Recursivo*\n",
        "\n",
        "* *Método Programación Dinámica*\n"
      ],
      "metadata": {
        "id": "joUJdrxZF6Ux"
      }
    },
    {
      "cell_type": "markdown",
      "source": [
        "##2.2 Método Recursivo\n",
        "\n",
        "El método recursivo consiste en probar todas las combinaciones posibles ($2^{n-1}$) y luego buscar la solución óptima donde se maximiza la ganancia.\n",
        "\n",
        "Y esto lo realiza de la siguiente forma: \n",
        "\n",
        "* Corta la varilla a un largo $i$ y llama recursivamente a la función con el resto de la varilla de largo $n-i-1$. Con $i$ desde $1$ hasta $N$\n",
        "\n",
        "* En cada una de las iteraciones va comprobando si el precio de la varilla hasta el largo $i$ más el mejor precio del resto de la varilla es el mayor hasta el momento, y si es el caso, lo guarda en una variable auxiliar.\n",
        "\n",
        "El principal problema de esto, es que al probar todas las combinaciones posibles se tiende a calcular muchas veces lo mismo, lo que no lo hace muy eficiente a comparación de el método con programación dinámica, cosa que se verá más adelante junto a los arboles de recursión. \n",
        "\n",
        "###A continuación se mostrará la implementación del Corte de varillas de forma recursiva:\n"
      ],
      "metadata": {
        "id": "qqYvcmeYVQkS"
      }
    },
    {
      "cell_type": "code",
      "source": [
        "from termcolor import colored\n",
        "contadorRecursiva = 0\n",
        "\n",
        "def corteVarillasRec(precios, n):\n",
        "  global contadorRecursiva\n",
        "  contadorRecursiva+=1\n",
        "  #Caso base\n",
        "  if (n <= 0):\n",
        "    return 0 , []\n",
        "\n",
        "  val_max = -9999999 #Inicializa en valor pequeño para que en la primera comparación se actualice\n",
        "  cortes = []\n",
        "  flag = True\n",
        "  \n",
        "  for i in range(1,n+1):\n",
        "\n",
        "    val_aux, corte_Aux = corteVarillasRec(precios , n - i)\n",
        "\n",
        "    flag = False\n",
        "\n",
        "    valor = precios[i-1] + val_aux\n",
        "\n",
        "    if(val_max < valor):\n",
        "      val_max = valor\n",
        "      cortes = corte_Aux\n",
        "      cortes.insert(0,i)\n",
        "\n",
        "   \n",
        "  return val_max, cortes\n",
        "\n",
        "# Ejemplo\n",
        "precios = [1,5,8,9,12]\n",
        "print(\"Arreglo de precios:\", precios,\"\\n\")\n",
        "maximo, cortes = corteVarillasRec(precios, len(precios))\n",
        "\n",
        "print(\"El mayor precio a conseguir es\", maximo, \"con piezas de tamaño\", cortes,\"y\",contadorRecursiva,\"llamadas recursivas.\")"
      ],
      "metadata": {
        "colab": {
          "base_uri": "https://localhost:8080/"
        },
        "id": "5Lk3rfA_Ddq3",
        "outputId": "67084ee9-d3bf-4053-af85-7fec1526c5bf"
      },
      "execution_count": 32,
      "outputs": [
        {
          "output_type": "stream",
          "name": "stdout",
          "text": [
            "Arreglo de precios: [1, 5, 8, 9, 12] \n",
            "\n",
            "El mayor precio a conseguir es 13 con piezas de tamaño [2, 3] y 32 llamadas recursivas.\n"
          ]
        }
      ]
    },
    {
      "cell_type": "markdown",
      "source": [
        "## 2.3 Método Programación dinámica\n",
        "\n",
        "###A continuación se mostrará la implementación del Corte de varillas aplicando la programación dinámica:"
      ],
      "metadata": {
        "id": "fxCJfjzGj8TV"
      }
    },
    {
      "cell_type": "code",
      "source": [
        "\n",
        "def corteVarillasDin(precios, n):\n",
        "\n",
        "  contadorDinamica = 0\n",
        "  preciosConocidos = [0 for i in range(n+1)]\n",
        "  cortes = [[0]]*(n+1)  \n",
        "\n",
        "  for i in range(1, n + 1):\n",
        "\n",
        "    val_max = -999999\n",
        "    \n",
        "    for j in range(i):\n",
        "\n",
        "      valor_actual = precios[j] + preciosConocidos[i-j-1]\n",
        "      \n",
        "      if(valor_actual > val_max):\n",
        "        val_max = valor_actual\n",
        "        cortes_aux = cortes[i-j-1].copy()\n",
        "        cortes_aux.append(j+1)\n",
        "\n",
        "    contadorDinamica+=1\n",
        "    cortes[i] = cortes_aux.copy()\n",
        "    preciosConocidos[i] = val_max\n",
        "    \n",
        "  return preciosConocidos[n], cortes[i], contadorDinamica\n",
        "\n",
        "# Ejemplo\n",
        "precios = [1,5,8,9,12]\n",
        "\n",
        "print(\"Arreglo de precios:\", precios,\"\\n\")\n",
        "\n",
        "maximo, cortes, contadorDinamica = corteVarillasDin(precios, len(precios))\n",
        "cortes.pop(0)\n",
        "print(\"El mayor precio a conseguir es\", maximo, \"con piezas de tamaño\", cortes,\"y\",contadorDinamica,\"subProblemas a resolver\")"
      ],
      "metadata": {
        "colab": {
          "base_uri": "https://localhost:8080/"
        },
        "id": "9JQeqQFYj5Rj",
        "outputId": "eb298b14-61a5-426f-97c9-753c253841d9"
      },
      "execution_count": 51,
      "outputs": [
        {
          "output_type": "stream",
          "name": "stdout",
          "text": [
            "Arreglo de precios: [1, 5, 8, 9, 12] \n",
            "\n",
            "El mayor precio a conseguir es 13 con piezas de tamaño [3, 2] y 5 subProblemas a resolver\n"
          ]
        }
      ]
    },
    {
      "cell_type": "markdown",
      "source": [
        "Para resolver problemas usando el **programación dinámica** seguimos la siguiente teoria:\n",
        "\n",
        "1. Identificamos una **colección relativamente pequeña de subproblemas**.\n",
        "2. Usamos estos subproblemas para resolver problemas más grandes de manera **correcta**.\n",
        "3. Resolvemos nuestro problema objetivo, de manera rápida y correcta usando las soluciones de todos los subproblemas.\n",
        "\n",
        "Por lo que aplicandolo a este algoritmo resolvemos sitemáticamente los problemas desde el más pequeño al más grande (Problema que queremos resolver).\n",
        "\n",
        "<a href=\"https://imgur.com/Gs8fEib\"><img src=\"https://imgur.com/Gs8fEib.png\" title=\"source: imgur.com\" /></a>\n",
        "\n",
        "Que en el caso de este ejemplo, para obtener el resultado de $n_4$, debemos simplemente resolver $n_3, n_2 , n_1$ y $n_0$\n",
        "\n",
        "Para aplicar esto, como vemos a la izquierda de la imagen, esta implementación guarda los SubProblemas ya resueltos, por lo que no debe volver a calcularlos en cada iteración, solo accede directamente a su resultado lo que reduce en gran parte su tiempo de ejecución y lo hace mucho más eficiente a comparación del método recursivo que calcula muchas veces el mismo valor. "
      ],
      "metadata": {
        "id": "EHbgm34TkW3P"
      }
    },
    {
      "cell_type": "markdown",
      "source": [
        "# 3. Tiempo de ejecución\n",
        "\n",
        "### **Teorema (Tiempo de ejecución método bottom-up).**\n",
        "\n",
        "  *El algoritmo **Corte de Varillas** tiene un **tiempo de ejecución de** $O(n^2)$* \n",
        "\n",
        "## Prueba del teorema\n",
        "\n",
        "Para probar el teorema debemos analizar que es lo que hace la función, en donde principalmente encontraremos 2 ciclos $for$ como veremos en la siguiente imagen:  \n",
        "\n",
        "<a href=\"https://imgur.com/gb7yfx0\"><img src=\"https://imgur.com/gb7yfx0.png\" title=\"source: imgur.com\" /></a>\n",
        "\n",
        "* Primer $for$ puede representarse como $\\sum\\limits_{j=1}^{n}$\n",
        "\n",
        "* Segundo $for$ puede representarse como $\\sum\\limits_{i=1}^{j}$\n",
        "\n",
        "* Dentro de cada ciclo for se realizan operaciones con tiempos de ejecución constantes, ya sean comparaciones o asiganciones.\n",
        "\n",
        "Por lo que puede representarse con la siguiente función matemática:\n",
        "\n",
        "$T(n)=\\sum\\limits_{i=1}^{n} \\sum\\limits_{j=1}^{i} c$\n",
        "\n",
        "Luego desarrollando la ecuación:\n",
        "\n",
        "$T(n)= c \\sum\\limits_{i=1}^{n} j$ \n",
        "\n",
        "$T(n)= c \\sum\\limits_{i=1}^{n} j$ \n",
        "\n",
        "$T(n)= c \\frac{n(n+1)}{2}$ \n",
        "\n",
        "$T(n)= c \\frac{n^2+n}{2}$ \n",
        "\n",
        "Lo cual finalmente nos da un tiempo de ejecución de: $O(n^2)$\n",
        "\n",
        "\n",
        "\n",
        "\n",
        "\n",
        "\n",
        "\n",
        "\n"
      ],
      "metadata": {
        "id": "5XsT6q0fXaSa"
      }
    },
    {
      "cell_type": "markdown",
      "source": [
        "# 4. Correctitud \n",
        "\n",
        "### **Teorema (Método Programación Dinámica).**\n",
        "\n",
        "*El algoritmo **Corte de Varillas** retorna el valor más optimo en la venta de una varilla por partes, en donde cada parte tiene un precio específico definido.*\n",
        "\n",
        "## Prueba del Teorema\n",
        "\n",
        "Para probar el teorema lo haremos mediante la inducción matemática:\n",
        "\n",
        "**Caso Base(n = 1):**\n",
        "\n",
        "*En este caso, ya se encuentra el mayor beneficio posible del subproblema ya que, por muy obvio que sea, este valor mismo valor será el máximo beneficio posible a conseguir.*\n",
        "\n",
        "**Paso inductivo:**\n",
        "\n",
        "Tenemos $r(n) = max(p(i)+r(n-i), p(n))$ donde existen 2 casos:\n",
        "\n",
        "* Cuando $p(n)$ es mayor, retorna el máximo beneficio del precio correspondiente del largo de la varilla completo, por lo que es correcto.\n",
        "\n",
        "* Cuando es mayor $p(i)+r(n-i)$, el sub problema $r(n-i)$ ya fue resuelto en anteriores iteraciones y retorna el maximo beneficio.\n",
        "\n",
        "**Correctitud**\n",
        "\n",
        "Como podemos comprobar, en ambos casos el algoritmo siempre retornará el máximo beneficio en precio, por lo que podemos decir que el algorimo es correcto.\n"
      ],
      "metadata": {
        "id": "-ifxrrqlC4Hc"
      }
    },
    {
      "cell_type": "markdown",
      "source": [
        "# 5. Experimentos\n",
        "\n",
        "## 5.1. Número de comparaciones\n",
        "\n",
        "A continuación se muestra gráficamente una comparación de tiempo de ejecución entre:\n",
        "\n",
        "* Corte de Varillas Recursivo\n",
        "\n",
        "* Corte de Varillas con Programación Dinámica\n",
        "\n",
        "Para el método recursivo, se hace para arreglos entre el rango 20 y 100 con un lista de precios aleatorios ordenados de menor a mayor. Mientras que para el método Programación Dinámica, el rango del arreglo es entre 10 al 23 con la lista de precios aleatorios ordenados crecientemente.\n"
      ],
      "metadata": {
        "id": "2hYUM_9OHF38"
      }
    },
    {
      "cell_type": "code",
      "source": [
        "import random\n",
        "def cutrod_instance_generator(N):\n",
        "  A = []\n",
        "  prev = 0\n",
        "  for i in range(N):\n",
        "    r=random.randint(0,10)\n",
        "    A.append(prev+r)\n",
        "    prev+=r\n",
        "  return A"
      ],
      "metadata": {
        "id": "kXPHqnX7Q-sF"
      },
      "execution_count": null,
      "outputs": []
    },
    {
      "cell_type": "code",
      "source": [
        "import matplotlib.pyplot as plt\n",
        "import datetime\n",
        "from timeit import repeat\n",
        "import random\n",
        "\n",
        "x=[]; y=[];\n",
        "verbose = False\n",
        "for n in range(20,100):\n",
        "  import random\n",
        "\n",
        "  arr = cutrod_instance_generator(n)\n",
        "\n",
        "  t1 = repeat(setup=\"from __main__ import corteVarillasDin\", stmt=f\"corteVarillasDin({arr}, {len(arr)})\", repeat=1, number=10)\n",
        "\n",
        "  x.append(n)\n",
        "  y.append(t1)\n",
        "\n",
        "plt.plot(x,y)\n",
        "plt.legend([\"CorteVarillasDin\"])\n",
        "\n",
        "plt.xlabel('n')\n",
        "plt.ylabel('time in ms')\n",
        "plt.show()"
      ],
      "metadata": {
        "colab": {
          "base_uri": "https://localhost:8080/",
          "height": 280
        },
        "id": "LxKv6b1WE-t8",
        "outputId": "badeaf84-f01f-48fc-fd94-f3e509d37e36"
      },
      "execution_count": 21,
      "outputs": [
        {
          "output_type": "display_data",
          "data": {
            "text/plain": [
              "<Figure size 432x288 with 1 Axes>"
            ],
            "image/png": "[encoded data removed]"
          },
          "metadata": {
            "needs_background": "light"
          }
        }
      ]
    },
    {
      "cell_type": "code",
      "source": [
        "import matplotlib.pyplot as plt\n",
        "import datetime\n",
        "from timeit import repeat\n",
        "import random\n",
        "\n",
        "x=[]; y=[];\n",
        "verbose = False\n",
        "for n in range(10,23):\n",
        "  a = cutrod_instance_generator(n)\n",
        "\n",
        "  t = repeat(setup=\"from __main__ import corteVarillasRec\", stmt=f\"corteVarillasRec({a}, {len(a)})\", repeat=1, number=10)\n",
        "  \n",
        "  x.append(n)\n",
        "  y.append(t)\n",
        "\n",
        "plt.plot(x,y)\n",
        "plt.legend([\"CorteVarillasRec\"])\n",
        "\n",
        "plt.xlabel('n')\n",
        "plt.ylabel('time in ms')\n",
        "plt.show()"
      ],
      "metadata": {
        "id": "zrX7vXQ-K6X-",
        "colab": {
          "base_uri": "https://localhost:8080/",
          "height": 279
        },
        "outputId": "8fdd67ce-ceef-429a-cb56-742886b8e38a"
      },
      "execution_count": 31,
      "outputs": [
        {
          "output_type": "display_data",
          "data": {
            "text/plain": [
              "<Figure size 432x288 with 1 Axes>"
            ],
            "image/png": "[encoded data removed]"
          },
          "metadata": {
            "needs_background": "light"
          }
        }
      ]
    },
    {
      "cell_type": "markdown",
      "source": [
        "### Análisis de resultados\n",
        "\n",
        "A continuacion se mostrará el resultado de ambos gráficos:\n",
        "\n",
        "<a href=\"https://imgur.com/b2MvimO\"><img src=\"https://imgur.com/b2MvimO.png\" title=\"source: imgur.com\" /></a>\n",
        "\n",
        "<a href=\"https://imgur.com/jKssZyC\"><img src=\"https://imgur.com/jKssZyC.png\" title=\"source: imgur.com\" /></a>\n",
        "\n",
        "Aplicando el método bottom-up, vemos que tarda un tiempo exponencialmente menor que de la manera recursiva, llegando a resolver problemas de tamaño $100$ en cuestion de $0.012ms$. Mientras que para el método recursivo, para un problema de tan solo tamaño $22$ el algoritmo ya aumenta su tiempo de ejecución a más de $25ms$, por lo que podemos ver la gran diferencia que existe entre ambos métodos. Con esto podemos comprobar el número de problemas a resolver de ambos, ya que por un lado, con el método bottom-up, el algoritmo debe resolver $n-1$ SubProblemas, mientras que en el recursivo este número asciende a $n^2$.\n"
      ],
      "metadata": {
        "id": "0LpupLb_HnWS"
      }
    },
    {
      "cell_type": "markdown",
      "source": [
        "## 5.2. Número de SubProblemas a resolver\n",
        "\n",
        "A continuación se muestra gráficamente la comparación de número de subProblemas a resolver para el método bottom-up (programación dinámica) vs el valor teórico de subProblemas a resolver.\n"
      ],
      "metadata": {
        "id": "xZxMa9pljKNY"
      }
    },
    {
      "cell_type": "code",
      "source": [
        "import matplotlib.pyplot as plt\n",
        "\n",
        "x=[n for n in range(5,20)]\n",
        "y1=[n-1 for n in range(5,20)]\n",
        "y=[]\n",
        "\n",
        "for n in range(5,20):\n",
        "  a = cutrod_instance_generator(n)\n",
        "  max,cortes,cont = corteVarillasDin(a,len(a))\n",
        "  y.append(cont)\n",
        "\n",
        "plt.plot(x,y1)\n",
        "plt.plot(x,y)\n",
        "plt.legend([\"Caso Promedio Teórico\",\"Caso promedio bottom-up\"])\n",
        "\n",
        "plt.xlabel('número de elementos')\n",
        "plt.ylabel('Número de operaciones')\n",
        "plt.show()\n"
      ],
      "metadata": {
        "colab": {
          "base_uri": "https://localhost:8080/",
          "height": 279
        },
        "id": "xG_L3TOTqcF4",
        "outputId": "7bba23a9-161b-4592-868a-90ce096398f8"
      },
      "execution_count": 49,
      "outputs": [
        {
          "output_type": "display_data",
          "data": {
            "text/plain": [
              "<Figure size 432x288 with 1 Axes>"
            ],
            "image/png": "[encoded data removed]"
          },
          "metadata": {
            "needs_background": "light"
          }
        }
      ]
    },
    {
      "cell_type": "markdown",
      "source": [
        "### Análisis de resultados\n",
        "\n",
        "Como podemos apreciar del gráfico, el caso teórico de subproblemas a resolver es de $n-1$ subProblemas, puesto que sin considerar el 0, el algoritmo aplicando bottom-up basta con resolver todos los subProblemas anteriores. Y al ver el gráfico, vemos que se ambas rectas se comportan de manera muy similar, de forma lineal y en valores cercanos. "
      ],
      "metadata": {
        "id": "yJtWIzaasIIx"
      }
    }
  ]
}