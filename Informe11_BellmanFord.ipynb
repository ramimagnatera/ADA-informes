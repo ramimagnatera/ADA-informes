{
  "nbformat": 4,
  "nbformat_minor": 0,
  "metadata": {
    "colab": {
      "provenance": [],
      "authorship_tag": "ABX9TyMe4r6N5TxhRQjNJ1G4bpRR",
      "include_colab_link": true
    },
    "kernelspec": {
      "name": "python3",
      "display_name": "Python 3"
    },
    "language_info": {
      "name": "python"
    }
  },
  "cells": [
    {
      "cell_type": "markdown",
      "metadata": {
        "id": "view-in-github",
        "colab_type": "text"
      },
      "source": [
        "<a href=\"https://colab.research.google.com/github/ramimagnatera/ADA-informes/blob/main/Informe11_BellmanFord.ipynb\" target=\"_parent\"><img src=\"https://colab.research.google.com/assets/colab-badge.svg\" alt=\"Open In Colab\"/></a>"
      ]
    },
    {
      "cell_type": "markdown",
      "source": [
        "# 1. Descripción del Problema\n",
        "\n",
        "El problema del **camino más corto** tiene como objetivo encontrar la distancia más corta entre un vértice inicial $s$ y todos los nodos de un grafo $G=(V,E)$, siendo V el conjunto de nodos y E el conjunto de arcos.  \n",
        "\n",
        "**Entrada**: *Grafo dirigido $G=(V,E)$*\n",
        "\n",
        "**Salida**: *Distancia más corta entre un nodo inicial y todo el resto de nodos del grafo*\n",
        "\n",
        "Este es un problema de optimización combinatoria bastante conocido, debido a que aparece en diversas áreas tanto de ingenieria como de las ciencias y con variadas aplicaciones o usos cotidianos. Por ejemplo al momento de calcular la ruta más corta entre ciudades o para operaciones transaccionales entre muchas otras."
      ],
      "metadata": {
        "id": "ZITy6RG4t6DQ"
      }
    },
    {
      "cell_type": "markdown",
      "source": [
        "# 2. Bellman-Ford"
      ],
      "metadata": {
        "id": "M4SI_VRjdHR3"
      }
    },
    {
      "cell_type": "markdown",
      "source": [
        "## 2.1 Descripción del Algoritmo\n",
        "\n",
        "El algoritmo Bellman-Ford encuentra el camino más corto entre un nodo raiz y todo el resto de nodos de un grafo. Este grafo puede tener arcos con valores tanto positivos como negativos, a diferencia del algoritmo de Dijkstra el cual solo permite valores positivos. El algoritmo retorna una lista con todos los caminos más cortos entre el nodo raiz y el resto de nodos, sin embargo, el algoritmo Bellman-Ford no funciona si existe un ciclo negativo dentro del grafo, por lo que en dicho caso retornara una lista vacía junto un mensaje de que el grafo no está permitido. El algoritmo implementa la programación dinámica para resolver este problema. \n",
        "\n",
        "<a href=\"https://imgur.com/bhjsZdn\"><img src=\"https://imgur.com/bhjsZdn.png\" title=\"source: imgur.com\" /></a>\n",
        "\n",
        "**Subestructura óptima**:\n",
        "\n",
        "- El camino más corto contiene $i-1$ arcos o menos.*\n",
        "- $P$ es, para algún valor $w \\in V$, la ruta más corta $s\\leadsto w$ con $i-1$ arcos o menos, adicionada con el arco $(w,v) \\in E$.*\n",
        "\n",
        "**Función de recurrencia**:\n",
        "\n",
        "<a href=\"https://imgur.com/z3XECfd\"><img src=\"https://imgur.com/z3XECfd.png\" title=\"source: imgur.com\" /></a>\n",
        "\n",
        "- La ruta más corta tiene $i-1$ arcos o menos, por lo tanto, bastaría con encontrar la ruta más corta para $i-1$ arcos o menos. **(caso 1)**\n",
        "- La ruta más corta tiene efectivamente $i$ arcos, por lo que realizamos la subdivisión de subproblemas explicada anteriormente. **(caso 2)**\n",
        "\n",
        "A continuación se explicará paso a paso lo que realiza el algoritmo: \n",
        "\n",
        "1.   Se crea un arreglo auxiliar (dist) de tamaño igual a $V$ (cantidad de nodos en el grafo) y se inicializan en infinito excepto el primer elemento el cual será igual a 0.\n",
        "\n",
        "2.   Se itera $V$ veces, y en cada iteración i para cada arco (u,v). Sí dist[v] > dist[u] + w(u,v), entonces dist[v] = dist[u] + w(u,v).\n",
        "\n",
        "3.   Luego de terminar con el ciclo anterior, debemos comprobas que no exista un ciclo negativo dentro del grafo, por lo que iteramos $V$ veces y en cada iteración j para cada arco (u,v). Sí dist[v] > dist[u] + w(u,v), entonces podemos decir que el grafo tiene un ciclo negativo y imprime por pantalla.\n",
        "\n",
        "4. Finalmente, en caso de no existir un ciclo negativo se retorna la lista con las distancias más cortas entre nodos.\n",
        "\n"
      ],
      "metadata": {
        "id": "joUJdrxZF6Ux"
      }
    },
    {
      "cell_type": "markdown",
      "source": [
        "##2.2 Código\n",
        "\n",
        "###A continuación se mostrará la implementación del algoritmo Bellman-Ford:\n"
      ],
      "metadata": {
        "id": "qqYvcmeYVQkS"
      }
    },
    {
      "cell_type": "code",
      "source": [
        "## GENERADOR DE INSTANCIAS BELLMAN-FORD\n",
        "\n",
        "import random\n",
        "def is_valid_edge(generated_edges: dict, i: int, j: int):\n",
        "    return i != j and not generated_edges.get((i, j), None) and not generated_edges.get((j, i), None)\n",
        "def instance_generator_bellman(n: int):\n",
        "    \"\"\"\n",
        "        Input: cantidad de vértices\n",
        "        Output: una lista que contiene todos los arcos y el número del vértice fuente (la función retorna dos variables).\n",
        "        Los arcos vienen en la forma (i, j, weight), donde i es el vértice origen del arco y j el vértice al que apunta el arco, mientras que weight es su peso.\n",
        "    \"\"\"\n",
        "    graph = []\n",
        "    nodes = random.sample(range(0, n), n)\n",
        "    unvisited_nodes = random.sample(range(0, n), n)\n",
        "    generated_edges = {}\n",
        "    for i in nodes:\n",
        "        rand = random.sample(nodes, random.randint(1, 3))\n",
        "        for j in rand:\n",
        "            edge = (i, j)\n",
        "            edge_with_weight = (i, j, random.randint(1, 100))\n",
        "            if generated_edges.get((edge[1], edge[0]), None):\n",
        "                continue\n",
        "            if i == j:\n",
        "                new_vertice = None\n",
        "                iterations = 0\n",
        "                while new_vertice is None and iterations < 250:\n",
        "                    iterations += 1\n",
        "                    number = random.randint(0, n - 1)\n",
        "                    if is_valid_edge(generated_edges, i, number):\n",
        "                        new_vertice = number\n",
        "                if iterations >= 250:\n",
        "                    return instance_generator_bellman(n)           \n",
        "                edge = (i, new_vertice)\n",
        "                edge_with_weight = (i, new_vertice, random.randint(-25, 100)) # -25 y 100 corresponde a los límites de los pesos, puede cambiarlos.         \n",
        "            graph.append(edge_with_weight)\n",
        "            generated_edges[edge] = edge\n",
        "            if edge_with_weight[1] in unvisited_nodes:\n",
        "                unvisited_nodes.remove(edge_with_weight[1])\n",
        "    for i in unvisited_nodes:\n",
        "        valid_edge = False\n",
        "        iterations = 0\n",
        "        while not valid_edge and iterations < 250:\n",
        "            iterations += 1\n",
        "            m = random.randint(0, n - 1)\n",
        "            if is_valid_edge(generated_edges, m, i):\n",
        "                valid_edge = True\n",
        "                edge = (m, i)\n",
        "                edge_with_weight = (m, i, random.randint(-25, 100)) # -25 y 100 corresponde a los límites de los pesos, puede cambiarlos.\n",
        "                graph.append(edge_with_weight)\n",
        "                generated_edges[edge] = edge\n",
        "        if iterations >= 250:\n",
        "            return instance_generator_bellman(n)\n",
        "\n",
        "    return graph, graph[0][0]"
      ],
      "metadata": {
        "id": "JsL0GwBtGspn"
      },
      "execution_count": 94,
      "outputs": []
    },
    {
      "cell_type": "code",
      "source": [
        "from sys import maxsize\n",
        "import networkx as nx\n",
        "def BellmanFord(graph, V, E, src, verbose, visualizer):\n",
        " \n",
        "    # crea la matriz y inicializa la \n",
        "    # distancia a los vertices en infinito\n",
        "    dis = [maxsize] * V\n",
        " \n",
        "    # inicializa la distancia del nodo raiz en 0\n",
        "    dis[src] = 0\n",
        " \n",
        "    for i in range(V - 1):\n",
        "        if(verbose == True):\n",
        "          print(\"\\nIteración número:\",i,end=\"\\n\\n\")\n",
        "        for j in range(E):\n",
        "            if(verbose == True):\n",
        "              print(\"Arco número:\",j,end=\"\\n\\n\")\n",
        "              print(\"si\",dis[graph[j][0]],\"+\",graph[j][2],\"<\",dis[graph[j][1]])\n",
        "\n",
        "            if dis[graph[j][0]] + graph[j][2] < dis[graph[j][1]]:\n",
        "                dis[graph[j][1]] = dis[graph[j][0]] + graph[j][2]\n",
        "                if(verbose == True):\n",
        "                   print(\"entonces\",dis[graph[j][1]],\"=\", dis[graph[j][0]],\"+\", graph[j][2])\n",
        "                   print(dis,end=\"\\n\\n\")\n",
        "            else:\n",
        "              if(verbose == True): \n",
        "                print(\"No se cumple\")\n",
        "                print(dis,end=\"\\n\\n\")\n",
        "                \n",
        "    for i in range(E):\n",
        "        x = graph[i][0]\n",
        "        y = graph[i][1]\n",
        "        weight = graph[i][2]\n",
        "        if dis[x] != maxsize and dis[x] + weight < dis[y]:\n",
        "            dis = []\n",
        "            return dis\n",
        "    \n",
        "    if(visualizer == True):\n",
        "        G = graph_to_nxdigraph(graph,V)\n",
        "        pos=nx.spring_layout(G)\n",
        "        #pos = graphviz_layout(G, prog=\"dot\")\n",
        "\n",
        "        # para mostrar los arcos con sus etiquetas\n",
        "        labels = nx.get_edge_attributes(G,'weight')\n",
        "        nx.draw_networkx_edge_labels(G,pos,edge_labels=labels,font_size=14)\n",
        "\n",
        "        # para mostrar los nodos en sus posiciones y colores, tamaños, etc.\n",
        "        nx.draw(G,pos, with_labels=True, node_size=800, font_color=\"white\", font_size=14, font_weight=\"black\", width  =2.0, edge_color =\"green\")\n",
        "    return dis\n",
        " \n",
        "# Ejemplo\n",
        "V = 5 # Número de nodos\n",
        "\n",
        "graph,root = instance_generator_bellman(V)\n",
        "\n",
        "print(\"Arcos del grafo\\nNodo inicial:Nodo destino:Peso del arco\")\n",
        "for i in range(V):\n",
        "  print(graph[i], end=\"\\n\")\n",
        "\n",
        "distancias = BellmanFord(graph, V, len(graph), root, False, False)\n",
        "\n",
        "if(distancias): \n",
        "  print(\"\\nDistancia mínima entre nodos\")\n",
        "  for i in range(V):\n",
        "    print(\"%d\\t\\t%d\" % (i, distancias[i]))\n",
        "else:\n",
        "  print(\"El grafo contiene ciclos negativos\")"
      ],
      "metadata": {
        "colab": {
          "base_uri": "https://localhost:8080/"
        },
        "id": "0DY2adlCGwA8",
        "outputId": "59e3c165-07ab-4f94-d3d2-9b4213667c26"
      },
      "execution_count": 97,
      "outputs": [
        {
          "output_type": "stream",
          "name": "stdout",
          "text": [
            "Arcos del grafo\n",
            "Nodo inicial:Nodo destino:Peso del arco\n",
            "(0, 4, 43)\n",
            "(4, 2, 31)\n",
            "(4, 1, 34)\n",
            "(3, 0, 34)\n",
            "(3, 1, 95)\n",
            "\n",
            "Distancia mínima entre nodos\n",
            "0\t\t0\n",
            "1\t\t77\n",
            "2\t\t74\n",
            "3\t\t108\n",
            "4\t\t43\n"
          ]
        }
      ]
    },
    {
      "cell_type": "markdown",
      "source": [
        "##2.3 Ejemplo:\n",
        "\n",
        "A continuación se mostrará un ejemplo de como funciona el algoritmo **Bellman-Ford**:\n",
        "\n",
        "<a href=\"https://imgur.com/AGQVtfw\"><img src=\"https://imgur.com/AGQVtfw.png\" title=\"source: imgur.com\" /></a>\n",
        "\n",
        "1.   Primero se inicializa la matriz de distancias en infinito y la raiz en 0\n",
        "\n",
        "2.   Se itera tantas veces como nodos existan en el grafo (para comprobar todos los caminos posibles hacia los nodos) \n",
        "\n",
        "3. Luego vemos las conexiones de la raiz y guardamos su distancia en el arreglo de distancias\n",
        "\n",
        "4. Repetimos este proceso hasta comprobar todos los posibles caminos a los nodos\n",
        "\n",
        "El ejemplo está a modo de resumen y solamente en los casos que se guardan los valores en el arreglo de distancias, puesto que al realizar por cada nodo y recorrer todos los arcos posibles quedaría un ejemplo muy grande. (En la opción verbose=true se puede ver mejor representado lo que hace el algoritmo en cada iteración).\n",
        "\n",
        "\n",
        "\n"
      ],
      "metadata": {
        "id": "V6uOwbgIVPsD"
      }
    },
    {
      "cell_type": "markdown",
      "source": [
        "##2.4. Ejecución del algoritmo paso a paso con verbose = True"
      ],
      "metadata": {
        "id": "jJCcE1umrF4t"
      }
    },
    {
      "cell_type": "code",
      "source": [
        "V = 4 # Número de nodos\n",
        "\n",
        "graph,root = instance_generator_bellman(V)\n",
        "\n",
        "print(\"Arcos del grafo\\nNodo inicial:Nodo destino:Peso del arco\")\n",
        "for i in range(V):\n",
        "  print(graph[i], end=\"\\n\")\n",
        "\n",
        "distancias = BellmanFord(graph, V, len(graph), root, True, False)\n",
        "\n",
        "print(\"Distancia mínima entre nodos\")\n",
        "for i in range(V):\n",
        "    print(\"%d\\t\\t%d\" % (i, distancias[i]))"
      ],
      "metadata": {
        "id": "PXKm7jrArIhv"
      },
      "execution_count": null,
      "outputs": []
    },
    {
      "cell_type": "markdown",
      "source": [
        "# 3. Dijkstra"
      ],
      "metadata": {
        "id": "q5V9B5MPFz6g"
      }
    },
    {
      "cell_type": "markdown",
      "source": [
        "## 3.1 Descripción del Algoritmo\n",
        "\n",
        "El algoritmo Dijkstra, al igual que el visto anteriormente, encuentra el camino más corto entre un nodo raiz y todo el resto de nodos de un grafo. Este grafo puede tener arcos con valores **exclusivamente** positivos. El algoritmo retorna una lista con todos los caminos más cortos entre el nodo raiz y el resto de nodos, excepto en el caso que  exista un ciclo negativo dentro del grafo, ya que en dicho caso retornara una lista vacía junto un mensaje de que el grafo no está permitido.\n",
        "\n",
        "<a href=\"https://imgur.com/bhjsZdn\"><img src=\"https://imgur.com/bhjsZdn.png\" title=\"source: imgur.com\" /></a>\n",
        "\n",
        "Siga los pasos a continuación para resolver el problema:\n",
        "\n",
        "1. Asigne un valor de distancia a todos los vértices en el gráfico de entrada. Inicializa todos los valores de distancia como infinito y ssigne el valor de distancia como 0 para el vértice de origen para que se elija primero. \n",
        "\n",
        "2. Mientras que la cola con proridad no esté vacia, se elige un vértice \"u\" que no esté en marcado y tenga un valor de distancia mínimo. \n",
        "\n",
        "  2.1 Marque el vertice \"u\". \n",
        "\n",
        "  2.2 Luego actualice el valor de distancia de todos los vértices adyacentes de \"u\". Para actualizar los valores de distancia, itere a través de todos los vértices adyacentes. Para cada vértice adyacente v, si la suma del valor de la distancia de u (desde la fuente) y el peso del borde uv es menor que el valor de la distancia de v, actualice el valor de la distancia de v. \n"
      ],
      "metadata": {
        "id": "plWg3j4oGIke"
      }
    },
    {
      "cell_type": "markdown",
      "source": [
        "##3.2 Código\n",
        "\n",
        "###A continuación se mostrará la implementación del algoritmo Dijkstra:\n"
      ],
      "metadata": {
        "id": "OCiUDE81GWuL"
      }
    },
    {
      "cell_type": "code",
      "source": [
        "## GENERADOR DE INSTANCIAS Dijkastra\n",
        "import random\n",
        "def is_valid_edge(generated_edges: dict, i: int, j: int):\n",
        "    return i != j and not generated_edges.get((i, j), None) and not generated_edges.get((j, i), None)\n",
        "\n",
        "def instance_generator_dijkastra(n: int):\n",
        "    \"\"\"\n",
        "        Input: cantidad de vértices\n",
        "        Output: una lista que contiene todos los arcos y el número del vértice fuente (la función retorna dos variables).\n",
        "        Los arcos vienen en la forma (i, j, weight), donde i es el vértice origen del arco y j el vértice al que apunta el arco, mientras que weight es su peso.\n",
        "    \"\"\"\n",
        "    graph = []\n",
        "    nodes = random.sample(range(0, n), n)\n",
        "    unvisited_nodes = random.sample(range(0, n), n)\n",
        "    generated_edges = {}\n",
        "    for i in nodes:\n",
        "        rand = random.sample(nodes, random.randint(1, 3))\n",
        "        for j in rand:\n",
        "            edge = (i, j)\n",
        "            edge_with_weight = (i, j, random.randint(1, 100))           \n",
        "            if generated_edges.get((edge[1], edge[0]), None):\n",
        "                continue          \n",
        "            if i == j:\n",
        "                new_vertice = None\n",
        "                iterations = 0\n",
        "                while new_vertice is None and iterations < 250:\n",
        "                    iterations += 1\n",
        "                    number = random.randint(0, n - 1)\n",
        "                    if is_valid_edge(generated_edges, i, number):\n",
        "                        new_vertice = number\n",
        "                if iterations >= 250:\n",
        "                    return instance_generator_dijkastra(n)                \n",
        "                edge = (i, new_vertice)\n",
        "                edge_with_weight = (i, new_vertice, random.randint(1, 100)) # 0 y 100 corresponde a los límites de los pesos          \n",
        "            graph.append(edge_with_weight)\n",
        "            generated_edges[edge] = edge\n",
        "            if edge_with_weight[1] in unvisited_nodes:\n",
        "                unvisited_nodes.remove(edge_with_weight[1])\n",
        "\n",
        "    for i in unvisited_nodes:\n",
        "        valid_edge = False\n",
        "        iterations = 0\n",
        "        while not valid_edge and iterations < 250:\n",
        "            iterations += 1\n",
        "            m = random.randint(0, n - 1)\n",
        "            if is_valid_edge(generated_edges, m, i):\n",
        "                valid_edge = True\n",
        "                edge = (m, i)\n",
        "                edge_with_weight = (m, i, random.randint(0, 100)) # 0 y 100 corresponde a los límites de los pesos\n",
        "                graph.append(edge_with_weight)\n",
        "                generated_edges[edge] = edge\n",
        "\n",
        "        if iterations >= 250:\n",
        "            return instance_generator_dijkastra(n)\n",
        "\n",
        "    return graph, graph[0][0]"
      ],
      "metadata": {
        "id": "8rTZYa48xhjB"
      },
      "execution_count": 99,
      "outputs": []
    },
    {
      "cell_type": "code",
      "source": [
        "from queue import PriorityQueue\n",
        "\n",
        "class Graph:\n",
        "    def __init__(self, num_of_vertices):\n",
        "        self.v = num_of_vertices\n",
        "        self.edges = [[-1 for i in range(num_of_vertices)] for j in range(num_of_vertices)]\n",
        "        self.visited = []\n",
        "\n",
        "    def add_edge(self, u, v, weight):\n",
        "        self.edges[u][v] = weight\n",
        "        self.edges[v][u] = weight\n",
        "\n",
        "def dijkstra(graph, start_vertex):\n",
        "\n",
        "    D = {v:float('inf') for v in range(graph.v)}\n",
        "\n",
        "    D[start_vertex] = 0\n",
        "\n",
        "    # Se crea una cola con prioridad\n",
        "    pq = PriorityQueue()\n",
        "    pq.put((0, start_vertex))\n",
        "\n",
        "    # Mientras la cola no esté vacia\n",
        "    while not pq.empty():\n",
        "        (dist, current_vertex) = pq.get()\n",
        "        graph.visited.append(current_vertex)\n",
        "\n",
        "        for neighbor in range(graph.v):\n",
        "            if graph.edges[current_vertex][neighbor] != -1:\n",
        "                distance = graph.edges[current_vertex][neighbor]\n",
        "                if neighbor not in graph.visited:\n",
        "                    old_cost = D[neighbor]\n",
        "                    new_cost = D[current_vertex] + distance\n",
        "                    if new_cost < old_cost:\n",
        "                        pq.put((new_cost, neighbor))\n",
        "                        D[neighbor] = new_cost\n",
        "    return D\n",
        "\n",
        "def añadir_nodos(arr,n):\n",
        "  g = Graph(n)\n",
        "  for i in arr:\n",
        "    g.add_edge(i[0], i[1], i[2])\n",
        "  return g\n",
        "\n",
        "n = 5\n",
        "\n",
        "dis,root = instance_generator_dijkastra(n)\n",
        "\n",
        "g = añadir_nodos(dis,n)\n",
        "\n",
        "distancias = dijkstra(g, root)\n",
        "\n",
        "print(\"Distancia mínima entre nodos\")\n",
        "for i in range(V):\n",
        "    print(\"%d\\t\\t%d\" % (i, distancias[i]))"
      ],
      "metadata": {
        "id": "a7meAVoiFzjp",
        "colab": {
          "base_uri": "https://localhost:8080/"
        },
        "outputId": "e735c1b6-803e-4392-db00-3008157a4ef5"
      },
      "execution_count": 134,
      "outputs": [
        {
          "output_type": "stream",
          "name": "stdout",
          "text": [
            "Distancia mínima entre nodos\n",
            "0\t\t0\n",
            "1\t\t41\n",
            "2\t\t62\n",
            "3\t\t108\n"
          ]
        }
      ]
    },
    {
      "cell_type": "markdown",
      "source": [
        "##Visualizer Bellman-Ford\n"
      ],
      "metadata": {
        "id": "6iRJLtgVtjW-"
      }
    },
    {
      "cell_type": "code",
      "source": [
        "import matplotlib.pyplot as plt\n",
        "from networkx.drawing.nx_pydot import graphviz_layout\n",
        "def graph_to_nxdigraph(graph: list, n: int):\n",
        "    \"\"\"\n",
        "        Input: Un grafo en formato list[tuple]. Ej: [(0, 1, 10), (1, 2, 15), (2, 0, 7)].\n",
        "        Output: Un nx.DiGraph de la libreria networkx.\n",
        "    \"\"\"\n",
        "    nxdigraph = nx.DiGraph()\n",
        "    [nxdigraph.add_node(i) for i in range(n)]\n",
        "\n",
        "    for v in graph:\n",
        "        nxdigraph.add_edge(v[0], v[1], weight=v[2])\n",
        "\n",
        "    return nxdigraph"
      ],
      "metadata": {
        "id": "NtIm-hLvYgsN"
      },
      "execution_count": 95,
      "outputs": []
    },
    {
      "cell_type": "code",
      "source": [
        "V = 5 # Número de nodos\n",
        "graph,root = instance_generator_bellman(V)\n",
        "\n",
        "print(\"Arcos del grafo\\nNodo inicial:Nodo destino:Peso del arco\")\n",
        "for i in range(V):\n",
        "  print(graph[i], end=\"\\n\")\n",
        "\n",
        "distancias = BellmanFord(graph, V, len(graph), root, False, True)\n",
        "\n",
        "print(\"Distancia mínima entre nodos\")\n",
        "for i in range(V):\n",
        "    print(\"%d\\t\\t%d\" % (i, distancias[i]))"
      ],
      "metadata": {
        "colab": {
          "base_uri": "https://localhost:8080/",
          "height": 474
        },
        "id": "BxjLdlFTQTOD",
        "outputId": "4b850d4b-d5ba-4d31-c47a-87118b074666"
      },
      "execution_count": null,
      "outputs": [
        {
          "output_type": "stream",
          "name": "stdout",
          "text": [
            "Arcos del grafo\n",
            "Nodo inicial:Nodo destino:Peso del arco\n",
            "(3, 4, 14)\n",
            "(3, 0, 37)\n",
            "(0, 4, 40)\n",
            "(4, 1, 19)\n",
            "(4, 2, 74)\n",
            "Distancia mínima entre nodos\n",
            "0\t\t37\n",
            "1\t\t33\n",
            "2\t\t86\n",
            "3\t\t0\n",
            "4\t\t14\n"
          ]
        },
        {
          "output_type": "display_data",
          "data": {
            "text/plain": [
              "<Figure size 432x288 with 1 Axes>"
            ],
            "image/png": "[encoded data removed]"
          },
          "metadata": {}
        }
      ]
    },
    {
      "cell_type": "markdown",
      "source": [
        "# 3. Tiempo de ejecución Bellman-Ford\n",
        "\n",
        "### **Teorema (Tiempo de ejecución).**\n",
        "\n",
        "  *El algoritmo **Bellman Ford** tiene un **tiempo de ejecución promedio de** $O(V*E)$, siendo V el número de vertices y E el número de arcos* \n",
        "\n",
        "## Prueba del teorema\n",
        "\n",
        "Para comprobar el tiempo de ejecución del algoritmo, podemos hacerlo viendo su pseudocódigo y analizando lo que este realiza: \n",
        "\n",
        "<a href=\"https://imgur.com/HXWBvQU\"><img src=\"https://imgur.com/HXWBvQU.png\" title=\"source: imgur.com\" /></a>\n",
        "\n",
        "* El primer ciclo for (linea 2) recorre los $V-1$ nodos, por lo que se obtiene una complejidad de $O(V)$.\n",
        "\n",
        "* El segundo ciclo anidado (linea 3) itera la cantidad $E$ de arcos en el grafo, por lo que tiene una complejidad de $O(E)$\n",
        "\n",
        "Al ser 2 ciclos anidados, la complejidad final de algoritmo es de O(V*E)\n",
        "\n",
        "\n"
      ],
      "metadata": {
        "id": "5XsT6q0fXaSa"
      }
    },
    {
      "cell_type": "markdown",
      "source": [
        "# 4. Correctitud Bellman-Ford\n",
        "\n",
        "### **Teorema**\n",
        "\n",
        "*Dado un grafo $G = (V,E)$ y un nodo de origen $S$, el algoritmo encuentra el camino más corto a cada nodo $v$ ∈ $V$*.\n",
        "\n",
        "## Prueba del Teorema\n",
        "\n",
        "Para resolver el teorema lo haremos mediante inducción matemática.\n",
        "\n",
        "Hipótesis: *Luego de cada iteración, cada nodo $v$ ∈ $V$, $D[v,i]$ almacena el camino más corto desde $s$ hasta $v$ ocupando a lo máximo i arcos de por medio.*\n",
        "\n",
        "Caso Base ($i=1$): \n",
        "\n",
        "En la primera iteración, todos los valores de $D[v,i]$ van a estar inicializados en infinito excepto $D[s,i]$ el cual va a estar inicializado en 0. Por lo que hasta el momento se va a haber guardado el camino más corto hacia todos los nodos.\n",
        "\n",
        "Caso General ($i>1$): \n",
        "\n",
        "Para el caso general, debemos asumir que existe un camino más corto entre $s$ y $v$. Y diremos que el nodo $u$ es el anterior a $v$ en dicha ruta.\n",
        "\n",
        "Luego de una i-ésima iteración, por hipótesis inductiva podemos decir que en $D[u,i]$ se guarda la distancia más corta entre el nodo $s$ y el nodo $u$, por lo que en la siguente iteración podemos asegurar que se cumple que $D[v,i+1] ≤ D[u,i] + w(u,v)$ debido al propio funcionamiento del algoritmo. También podemos decir que $D[v,i+1]$ es igual o mayor al camino más corto entre los nodos $s$ y $v$ utilizando minimo i+1. Por lo que después de una i-ésima, en $D[v,i+1]$ se irá guardando el largo del camino más corto entre los nodos $s$ y $v$ con i+1 arcos como máximo.\n",
        " \n",
        "**Correctitud**\n",
        "\n",
        "Como se pudo comprobar, tanto para un caso base como para un caso general, se cumple que en $D[v,n-1]$ se almacena el camino más corto entre un nodo inicial $s$ hasta un nodo $v$ con un máximo de n-1 arcos. Por lo que se puede decir que el algoritmo Bellman-Ford es correcto. "
      ],
      "metadata": {
        "id": "-ifxrrqlC4Hc"
      }
    },
    {
      "cell_type": "markdown",
      "source": [
        "# 5. Experimentos\n",
        "\n",
        "## 5.1. Número de comparaciones\n",
        "\n",
        "Para el algoritmo Bellman-Ford, genere al menos 25 instancias distintas para cada tamaño n de entrada y calcule la media de tiempo que demoran. Grafique y analice estos resultados. ¿Qué tanto se asemejan al tiempo de ejecución teórico?\n",
        "\n",
        "Recibe de entrada grafos generados aleatoriamente con pesos tanto positivos como negativos."
      ],
      "metadata": {
        "id": "2hYUM_9OHF38"
      }
    },
    {
      "cell_type": "code",
      "source": [
        "import matplotlib.pyplot as plt\n",
        "import datetime\n",
        "from timeit import repeat\n",
        "\n",
        "x=[]; y=[]; y1=[]\n",
        "verbose = False\n",
        "\n",
        "for n in range(5,50):\n",
        "  graph,root = instance_generator_bellman(n)\n",
        "\n",
        "  t1 = repeat(setup=\"from __main__ import BellmanFord\", stmt=f\"BellmanFord({graph}, {n}, {len(graph)}, {root}, {False}, {False})\", repeat=1, number=25)\n",
        "\n",
        "  x.append(n)\n",
        "  y.append(t1)\n",
        "\n",
        "plt.plot(x,y)\n",
        "plt.legend([\"BellmanFord\"])\n",
        "\n",
        "plt.xlabel('n')\n",
        "plt.ylabel('time in ms')\n",
        "plt.show()"
      ],
      "metadata": {
        "colab": {
          "base_uri": "https://localhost:8080/",
          "height": 279
        },
        "id": "PgmRp5f-P8Lk",
        "outputId": "1e63a485-e668-49f4-bbb5-8dd0ab6efd59"
      },
      "execution_count": 109,
      "outputs": [
        {
          "output_type": "display_data",
          "data": {
            "text/plain": [
              "<Figure size 432x288 with 1 Axes>"
            ],
            "image/png": "[encoded data removed]"
          },
          "metadata": {
            "needs_background": "light"
          }
        }
      ]
    },
    {
      "cell_type": "markdown",
      "source": [
        "# 5. Experimentos\n",
        "\n",
        "## 5.1. Número de comparaciones\n",
        "\n",
        "Comparacion entre dijkstra y bellman-ford"
      ],
      "metadata": {
        "id": "UKiaP03j2bRQ"
      }
    },
    {
      "cell_type": "code",
      "source": [
        "x=[]; y=[]; y1=[]\n",
        "verbose = False\n",
        "\n",
        "for n in range(5,50):\n",
        "  graph,root = instance_generator_bellman(n)\n",
        "\n",
        "  dis,r = instance_generator_dijkastra(n)\n",
        "  g = añadir_nodos(dis,n)\n",
        "\n",
        "  t1 = repeat(setup=\"from __main__ import BellmanFord\", stmt=f\"BellmanFord({graph}, {n}, {len(graph)}, {root}, {False}, {False})\", repeat=1, number=25)\n",
        "  t2 = repeat(setup=\"from __main__ import dijkstra\", stmt=f\"dijkstra({g}, {r})\", repeat=1, number=25)\n",
        "\n",
        "  x.append(n)\n",
        "  y.append(t1)\n",
        "  y1.append(t2)\n",
        "\n",
        "plt.plot(x,y)\n",
        "plt.legend([\"BellmanFord\"],[\"Dijkstra\"])\n",
        "\n",
        "plt.xlabel('n')\n",
        "plt.ylabel('time in ms')\n",
        "plt.show()"
      ],
      "metadata": {
        "id": "ZzoAylwM2WRB"
      },
      "execution_count": null,
      "outputs": []
    }
  ]
}