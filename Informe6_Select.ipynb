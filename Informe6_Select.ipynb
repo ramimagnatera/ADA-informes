{
  "nbformat": 4,
  "nbformat_minor": 0,
  "metadata": {
    "colab": {
      "provenance": [],
      "collapsed_sections": [],
      "authorship_tag": "ABX9TyM/mpZyNCipYq9Qt+d77apw",
      "include_colab_link": true
    },
    "kernelspec": {
      "name": "python3",
      "display_name": "Python 3"
    },
    "language_info": {
      "name": "python"
    }
  },
  "cells": [
    {
      "cell_type": "markdown",
      "metadata": {
        "id": "view-in-github",
        "colab_type": "text"
      },
      "source": [
        "<a href=\"https://colab.research.google.com/github/ramimagnatera/ADA-informes/blob/main/Informe6_Select.ipynb\" target=\"_parent\"><img src=\"https://colab.research.google.com/assets/colab-badge.svg\" alt=\"Open In Colab\"/></a>"
      ]
    },
    {
      "cell_type": "markdown",
      "source": [
        "# 1. Problema de la selección\n",
        "\n",
        "Para los problemas de selección, se nos pide encontrar el k-ésimo menor número en un arreglo a este número se le llama estadístico de orden \"k\". Este incluye los casos de encontrar el mínimo, máximo, y la mediana.\n",
        "\n",
        "**Entrada**: Conjunto de $n$ números diferentes $A$  más un índice $i$.\n",
        "\n",
        "**Salida**: Elemento $x\\in A$, que es mayor a exactamente $i-1$ elementos de $A$.\n",
        "\n",
        "El elemento $x$ se conoce como **estadístico de orden $i$-ésimo** para el conjunto $A$.\n",
        "\n",
        "Este tipo de problemas son especialmente utiles en el área de la estadistica"
      ],
      "metadata": {
        "id": "jT2qsbCS3Fzu"
      }
    },
    {
      "cell_type": "markdown",
      "source": [
        "# 2. Selection"
      ],
      "metadata": {
        "id": "M4SI_VRjdHR3"
      }
    },
    {
      "cell_type": "markdown",
      "source": [
        "## 2.1 Descripción del Algoritmo\n",
        "\n",
        "Este algoritmo se utiliza para obtener los estadístico de orden \"k\", que es el k-ésimo valor más pequeño de una muestra (en este caso el arreglo). Y realiza los siguientes pasos: \n",
        "\n",
        "\n",
        "1. Se define el valor \"K\" a buscar\n",
        "\n",
        "2. Después se pasa a la función pivotSelect que hace lo siguiente: \n",
        "\n",
        " 2.1 Divide el conjunto de $n$ elementos en $\\lceil n/5 \\rceil$ grupos de 5 elementos cada uno (el último grupo queda con menos elementos)\n",
        "\n",
        " 2.2 Encuentra la mediana de cada grupo aplicando el algoritmo \n",
        " InsertionSort para ordenarlos.\n",
        "\n",
        " 2.3 Se aplica pivotSelect recursivamente para encontrar la mediana $m$ de las $\\lceil n/5 \\rceil$ medianas identificadas el paso previo. \n",
        "\n",
        " 2.4 Luego, $m$ será el pivote usado por el método partition.\n",
        "\n",
        "3. Luego con la función partition se divide el arreglo con respecto al pivote, dejando a la izquierda los números menores al pivote y la derecha los números mayores al pivote (con esto, nos aseguramos que el número que quedo en el pivote está si o si en su posición correcta ordenada de forma creciente).\n",
        "\n",
        "4. En este punto tenemos 3 casos: \n",
        "\n",
        " 4.1 Que la posición del pivote sea el valor k que estamos buscando: en este ya hemos encontrado el k-ésimo elemento, por lo que retornamos el valor que se encuentra en dicha posición.\n",
        " \n",
        " 4.2 Que la posición del pivote sea mayor que el valor k: en este caso debemos quedarnos con la parte izquieda del arreglo y descartar la derecha, puesto que nos aseguramos que en la parte derecha al pivote están los elementos mayores, no existe la posibilidad que nuestro k se encuentre en dicho rango.\n",
        "\n",
        " 4.3 Que la posición del pivote sea menor que el valor k: en este caso nos quedamos con la parte derecha del arreglo, que es el unico rango donde se puede encontrar nuestro valor k.\n",
        "\n",
        "5. En caso que se de el punto 4.1, ya habremos encontrado nuestro número k por lo que simplemente se retorna. En caso que nos encontremos con los puntos 4.2 o 4.3, lo que hará el algoritmo será llamar nuevamente la función \"Select\" aplicando la recursividad, pero esta vez con el rango en el cual se puede encontrar el valor k hasta que finalmente se de el caso 4.1 y se retorne.\n",
        "\n",
        "\n",
        "\n"
      ],
      "metadata": {
        "id": "joUJdrxZF6Ux"
      }
    },
    {
      "cell_type": "markdown",
      "source": [
        "##2.2 Código\n",
        "\n",
        "###A continuación se mostrará la implementación del RadixSort:\n"
      ],
      "metadata": {
        "id": "qqYvcmeYVQkS"
      }
    },
    {
      "cell_type": "code",
      "source": [
        "contador = 0\n",
        "\n",
        "def Select(arr, l, r, k, verbose = False):\n",
        "\n",
        "    if (k > 0 and k <= r - l + 1): #se verifica que k este en el rango\n",
        "         \n",
        "        n = r - l + 1 #numero de elementos en el arreglo\n",
        " \n",
        "        pivot = pivotSelection(arr,l,n) #se obtiene el elemento que será nuestro pivote\n",
        "\n",
        "        pos = partition(arr, l, r, pivot) #se divide el arreglo mediante un pivote\n",
        "                                          #con numeros menores a la izquierda y mayores a la derecha\n",
        "\n",
        "        # Si la posicion es igual al valor k buscado\n",
        "        if (pos - l == k - 1):\n",
        "            return arr[pos]\n",
        "        if (pos - l > k - 1): # Si es mayor, nos quedamos con la izquierda\n",
        "            return Select(arr, l, pos - 1, k, verbose)\n",
        " \n",
        "        # En caso que sea menor, nos quedamos con la derecha\n",
        "        return Select(arr, pos + 1, r, k - pos + l - 1,verbose)\n",
        "        \n",
        "    return print(\"K fuera de rango\")\n",
        " \n",
        "def swap(arr, a, b):\n",
        "    temp = arr[a]\n",
        "    arr[a] = arr[b]\n",
        "    arr[b] = temp\n",
        "\n",
        "#divide el arreglo respecto a un pivote, dejando los numeros menores a la izquierda\n",
        "#del pivote, y los numeros mayores a la derecha del pivote\n",
        "def partition(arr, l, r, x):\n",
        "    for i in range(l, r):\n",
        "        if arr[i] == x:\n",
        "            swap(arr, r, i)\n",
        "            break\n",
        "    x = arr[r]\n",
        "    i = l\n",
        "    for j in range(l, r):\n",
        "        if (arr[j] <= x):\n",
        "            swap(arr, i, j)\n",
        "            i += 1\n",
        "    swap(arr, i, r)\n",
        "    return i\n",
        " \n",
        "# Con esta funcion se ordena y retorna la mediana de un conjunto de elementos\n",
        "def mediana(arr, l, n):\n",
        "    auxarr = []\n",
        "    for i in range(l, l + n):\n",
        "        auxarr.append(arr[i])        \n",
        "    insertionSort(auxarr)\n",
        "    return auxarr[n // 2]\n",
        "\n",
        "def pivotSelection(arr, l, n):\n",
        "        global contador\n",
        "        median = []\n",
        "        i = 0\n",
        "        #Se divide el arreglo en grupos de 5 elementos, se calcula la mediana \n",
        "        #y se inserta en un arreglo que contendra todas las medianas\n",
        "        while (i < n // 5):\n",
        "            median.append(mediana(arr, l + i * 5, 5))\n",
        "            i += 1\n",
        " \n",
        "        # Para el ultimo grupo en caso que tenga menos de 5 elementos\n",
        "        if (i * 5 < n):\n",
        "            median.append(mediana(arr, l + i * 5, n % 5))\n",
        "            i += 1\n",
        " \n",
        "        # Mediante una llamada recursiva, se obtiene la mediana de las medianas\n",
        "        if i == 1:\n",
        "            pivot = median[i - 1]\n",
        "        else:\n",
        "            pivot = Select(median, 0,i - 1, i // 2,verbose = False)\n",
        "        \n",
        "        return pivot;\n",
        "def insertionSort(arr):\n",
        "    global contador\n",
        "    for i in range(1, len(arr)):\n",
        "        key = arr[i]\n",
        "        j = i-1\n",
        "        while j >= 0 and key < arr[j] :\n",
        "                contador+=1\n",
        "                arr[j + 1] = arr[j]\n",
        "                j -= 1\n",
        "        arr[j + 1] = key\n",
        "\n",
        "\n",
        "# Ejemplo\n",
        "arr = [ 10, 4, 5, 8, 6, 11, 26 ]\n",
        "n = len(arr)\n",
        "print(\"Ingrese el k-ésimo número: \")\n",
        "k = int(input())\n",
        "print(\"El k-ésimo elemento menor es \", end = \"\")\n",
        "print(Select(arr, 0, n - 1, k, verbose = False))"
      ],
      "metadata": {
        "colab": {
          "base_uri": "https://localhost:8080/"
        },
        "id": "5Lk3rfA_Ddq3",
        "outputId": "4b3c5b1b-2ba9-40ad-ce3f-f87039d37ae0"
      },
      "execution_count": 126,
      "outputs": [
        {
          "output_type": "stream",
          "name": "stdout",
          "text": [
            "Ingrese el k-ésimo número: \n",
            "7\n",
            "El k-ésimo elemento menor es 26\n"
          ]
        }
      ]
    },
    {
      "cell_type": "markdown",
      "source": [
        "# 3. Tiempo de ejecución\n",
        "\n",
        "### **Teorema (Tiempo de ejecución).**\n",
        "\n",
        "  *El algoritmo **Select** tiene un **tiempo de ejecución de** $O(n)$* \n",
        "\n",
        "## Prueba del teorema\n",
        "\n",
        "Dentro del algoritmo encontramos los siguientes pasos:\n",
        "\n",
        "1. En pivotSelection tenemos un tiempo final de ejecución de $O(n/5)$, puesto que sub dividimos el problema en 5 casos iguales.\n",
        "\n",
        "2. La función partition tiene un tiempo de ejecución de $O(n)$ en todo caso, ya que debe recorrer de izquierda a derecha para ordenar los elementos con respecto al pivote.\n",
        "\n",
        "3. Para la llamada recursiva tenemos un tiempo en el peor caso de $O(7n/10)$, esto viene ya que al seleccionar el pivote lo más central posible, se optimiza lo maximo posible para no hacer llamadas recursivas de más.\n",
        "\n",
        "  $T(n) \\leq T(\\frac{n}{5})+T(\\frac{7n}{10})+O(n)$ \n",
        "\n",
        "que por el Teorema Maestro nos da un tiempo de ejecución de $O(n)$"
      ],
      "metadata": {
        "id": "5XsT6q0fXaSa"
      }
    },
    {
      "cell_type": "markdown",
      "source": [
        "# 4. Correctitud \n",
        "\n",
        "### **Teorema (Correctitud Select).**\n",
        "\n",
        "*El algoritmo **Select** retorna el k-ésimo menor elemento de un arreglo de entrada desordenado $[a_1',a_2',...,a_n']$\n",
        "\n",
        "## Prueba del Teorema\n",
        "\n",
        "Para probar el teorema lo haremos mediante la inducción matemática:\n",
        "\n",
        "Caso Base ($n=1$): \n",
        "\n",
        "*Cuando tenemos que el tamaño del subarreglo N es 1, entonces k = 1 ; low  = high y el k-ésimo elemento es A[low] = A[high] *\n",
        "\n",
        "Caso General ($n>1$): \n",
        "\n",
        "*Para cualquier caso, el k es un número dentro del rango del arreglo, si el pivote no es el k-ésimo elemento, el arreglo se dividira con respecto a un pivote, quedandose con la parte posible, minimizando la muestra en cada llamada recursiva hasta que llegar al caso base o que el pivote sea igual a el k-ésimo elemento buscado.*\n",
        "\n",
        "**Correctitud**\n",
        "\n",
        "Finalmente, por inducción matemática se puede demostrar que tanto para un caso base, como para un caso general el algoritmo cumple con su función, por tanto podemos decir que el algoritmo retorna de forma correcta el k-ésimo elemento menor dentro del arreglo"
      ],
      "metadata": {
        "id": "-ifxrrqlC4Hc"
      }
    },
    {
      "cell_type": "markdown",
      "source": [
        "# 5. Experimentos\n",
        "\n",
        "## 5.1. tiempo de ejecución\n",
        "\n",
        "A continuación se muestra gráficamente una comparación de tiempo de ejecución entre:\n",
        "\n",
        "* Select seleccionando el pivote manualmente\n",
        "\n",
        "* Select seleccionando el pivote random\n",
        "\n",
        "Los arreglos de entrada son desde tamaño 5 hasta 500, con números generados aleatoriamente haciendo un sampling entre 1 y 1000."
      ],
      "metadata": {
        "id": "2hYUM_9OHF38"
      }
    },
    {
      "cell_type": "code",
      "source": [
        "from random import shuffle\n",
        "\n",
        "def _partition(arr, lo, hi, pivot):\n",
        "    p = arr[pivot]\n",
        "    arr[hi - 1], arr[pivot] = arr[pivot], arr[hi - 1]\n",
        "    i = lo - 1\n",
        "    for j in range(lo, hi):\n",
        "        if arr[j] <= p:\n",
        "            i += 1\n",
        "            arr[i], arr[j] = arr[j], arr[i]\n",
        "    return i\n",
        "\n",
        "\n",
        "def selectRandom(arr, lo, hi, spos):\n",
        "    assert lo <= spos < hi\n",
        "    shuffle(arr)  # shuffling is the randomization.\n",
        "    while True:\n",
        "        pos = _partition(arr, lo, hi, lo)\n",
        "        if pos == spos:\n",
        "            return arr[pos]\n",
        "        elif pos < spos:\n",
        "            lo = pos + 1\n",
        "        else:\n",
        "            hi = pos"
      ],
      "metadata": {
        "id": "6NunTFOcQolc"
      },
      "execution_count": 121,
      "outputs": []
    },
    {
      "cell_type": "code",
      "source": [
        "import matplotlib.pyplot as plt\n",
        "import datetime\n",
        "from timeit import repeat\n",
        "import random\n",
        "k = 3\n",
        "x=[]; y=[]; y1=[]\n",
        "verbose = False\n",
        "for n in range(5, 500):\n",
        "  a = random.sample(range(1, 1000), n)\n",
        "  largo = len(a)\n",
        "  t1 = repeat(setup=\"from __main__ import Select\", stmt=f\"Select({a}, {0},{largo - 1}, {k}, {verbose})\", repeat=1, number=10)\n",
        "  t2 = repeat(setup=\"from __main__ import selectRandom\", stmt=f\"selectRandom({a}, {0},{largo - 1}, {k})\", repeat=1, number=10)\n",
        "\n",
        "  x.append(n)\n",
        "  y.append(t1)\n",
        "  y1.append(t2)\n",
        "\n",
        "plt.plot(x,y)\n",
        "plt.plot(x,y1)\n",
        "plt.legend([\"Select\",\"SelectRandom\"])\n",
        "\n",
        "plt.xlabel('n')\n",
        "plt.ylabel('time in ms')\n",
        "plt.show()"
      ],
      "metadata": {
        "colab": {
          "base_uri": "https://localhost:8080/",
          "height": 279
        },
        "id": "LxKv6b1WE-t8",
        "outputId": "0adfbe96-c001-44ce-ee69-a2f33d05b123"
      },
      "execution_count": 128,
      "outputs": [
        {
          "output_type": "display_data",
          "data": {
            "text/plain": [
              "<Figure size 432x288 with 1 Axes>"
            ],
            "image/png": "[encoded data removed]"
          },
          "metadata": {
            "needs_background": "light"
          }
        }
      ]
    },
    {
      "cell_type": "markdown",
      "source": [
        "### Análisis de resultados\n",
        "\n",
        "En la grafica podemos ver que, por un lado, ambos se comportan de manera lineal como dice el teorema, por otro lado vemos que seleccionando el pivote de forma aleatoria el algoritmo tiene un tiempo de ejecución notablemente menor, de esto puedo sacar 2 conclusiones. El primer caso que realmente al ser de forma aleatoria se obtiene un menor tiempo, o por otro lado al seleccionar de forma manual el pivote se debe hacer uso de variadas funciones externas, lo que puede hacer que el tiempo de ejecución aumente comparado al SelectRandom que lo realiza en un mismo paso. "
      ],
      "metadata": {
        "id": "0LpupLb_HnWS"
      }
    },
    {
      "cell_type": "markdown",
      "source": [
        "## 5.1. número de comparaciones\n",
        "\n",
        "A continuación se muestra gráficamente una comparación entre el número de comparaciones de: \n",
        "\n",
        "* Mejor caso teorico\n",
        "\n",
        "* Peor caso o promedio\n",
        "\n",
        "Los arreglos de entrada son desde tamaño 5 hasta 500, con números generados aleatoriamente haciendo un sampling entre 1 y 1000."
      ],
      "metadata": {
        "id": "WGF1dV0Uj-Ag"
      }
    },
    {
      "cell_type": "code",
      "source": [
        "x=[n for n in range(5,500)]\n",
        "y=[]; #caso Promedio\n",
        "y1=[];\n",
        "k = 3\n",
        "for n in range(5,500):\n",
        "  contador = 0\n",
        "  a = random.sample(range(1, 1000), n)\n",
        "  Select(a, 0, n - 1, k, verbose = False)\n",
        "  y1.append(n)\n",
        "  y.append(contador)\n",
        "\n",
        "plt.plot(x,y1)\n",
        "plt.plot(x,y)\n",
        "plt.legend([\"Caso peor o promedio\",\"Mejor Caso teorico\"])\n",
        "\n",
        "plt.xlabel('número de elementos')\n",
        "plt.ylabel('Número de operaciones')\n",
        "plt.show()"
      ],
      "metadata": {
        "colab": {
          "base_uri": "https://localhost:8080/",
          "height": 279
        },
        "id": "dM_5HNJUgHTp",
        "outputId": "007a2996-fde9-449b-c2f1-25d1a91476cc"
      },
      "execution_count": 135,
      "outputs": [
        {
          "output_type": "display_data",
          "data": {
            "text/plain": [
              "<Figure size 432x288 with 1 Axes>"
            ],
            "image/png": "[encoded data removed]"
          },
          "metadata": {
            "needs_background": "light"
          }
        }
      ]
    },
    {
      "cell_type": "markdown",
      "source": [
        "### Análisis de resultados\n",
        "\n",
        "En la grafica podemos ver que crece de manera constante la cantidad de comparaciones que realiza, mientras que en el mejor caso, teoricamente podria resolverse que luego de hacer el primer partition, nuestro pivote sea el número k a buscar, por lo que demora O(n) en realizarlo, mientras que el caso peor o promedio tiende a realizar más pasos puesto que es muy poco probable que en las primeras iteraciones se encuentre el elemento, por lo que sería O(n + constante)\n",
        "\n"
      ],
      "metadata": {
        "id": "03nVxr__imf6"
      }
    }
  ]
}