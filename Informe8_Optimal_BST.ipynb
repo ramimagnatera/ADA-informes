{
  "nbformat": 4,
  "nbformat_minor": 0,
  "metadata": {
    "colab": {
      "provenance": [],
      "authorship_tag": "ABX9TyO74dBguCUh7+v0tkwYoYdM",
      "include_colab_link": true
    },
    "kernelspec": {
      "name": "python3",
      "display_name": "Python 3"
    },
    "language_info": {
      "name": "python"
    }
  },
  "cells": [
    {
      "cell_type": "markdown",
      "metadata": {
        "id": "view-in-github",
        "colab_type": "text"
      },
      "source": [
        "<a href=\"https://colab.research.google.com/github/ramimagnatera/ADA-informes/blob/main/Informe8_Optimal_BST.ipynb\" target=\"_parent\"><img src=\"https://colab.research.google.com/assets/colab-badge.svg\" alt=\"Open In Colab\"/></a>"
      ]
    },
    {
      "cell_type": "markdown",
      "source": [
        "# 1. Descripción del Problema\n",
        "\n",
        "Para introducir sobre el árbol binario de búsqueda óptimo, primero hay que definir lo que es un árbol binario, que no es más que una estructura de datos cuyos nodos pueden tener un hijo a la izquierda o a la derecha (no más de 2). Por lo tanto un árbol binario de búsqueda no es más que un tipo de árbol binario cuya estructura de árbol se representa en informática.\n",
        "\n",
        "Para el problema de árbol binario de búsqueda óptimo, cada nodo tiene un valor con cierta frecuencia de ser buscado, por lo que nos piden es ordenar el árbol de tal forma que los nodos que tengan una mayor probabilidad de ser encontrados se encuentren más cerca de la raiz, mientras que los menos probables estén más alejados, ya que de esta manera nos aseguramos de minimizar la cantidad de nodos a recorrer en una busqueda promedio.\n",
        "\n",
        "**Entrada**: Secuencia ordenada de n claves: $K=\\left<k_1,k_2,...,k_n\\right>$. Cada clave $k_i$ tiene una probabilidad $p_i$ de ser buscada. Existen **claves ficticias $d_i$** que representan **búsquedas fallidas** con $k_{i-1} \\leq d_i \\leq k_i$. Cada clave $d_i$ tiene una probabilidad $q_i$ de ser buscada. La suma de probabilidades debe ser uno, es decir: $\\sum\\limits_{i=1}^n p_i + \\sum\\limits_{j=0}^n q_i = 1$\n",
        "\n",
        "**Salida**: Construir un **árbol de búsqueda óptimo**, es decir, un árbol que **minimice la cantidad esperada de nodos visitados (costo esperado)**.\n",
        "\n"
      ],
      "metadata": {
        "id": "jT2qsbCS3Fzu"
      }
    },
    {
      "cell_type": "markdown",
      "source": [
        "# 2. Árbol binario de búsqueda óptimo"
      ],
      "metadata": {
        "id": "M4SI_VRjdHR3"
      }
    },
    {
      "cell_type": "markdown",
      "source": [
        "## 2.1 Descripción del Algoritmo\n",
        "\n",
        "El algoritmo **árbol binario de búsqueda óptimo**, se basa básicamente en minimizar la cantidad de nodos a recorrer en la búsqueda de algun nodo en específico, y asi asegurar un tiempo de ejecución menor a si se buscara en un árbol binario común. \n",
        "\n",
        "En la siguiente imagen podemos ver un ejemplo de un caso de árbol binario de búsqueda:\n",
        "\n",
        "\n",
        "<a href=\"https://imgur.com/PDpoo30\"><img src=\"https://imgur.com/PDpoo30.png\" title=\"source: imgur.com\" /></a>\n",
        "\n",
        "Como vemos, tenemos nuestros nodos con sus respectivas frecuencias de ocurrencia, pero ¿Como sabemos con cual forma debemos elegir para asegurar la menor cantidad de nodos a recorrer?, aqui es donde entra el término de coste. Cada árbol binario tiene un respectivo coste, el cual se calcula multiplicando la frecuencia del nodo por el nivel en el cual se encuentra y donde dicho coste corresponde al promedio de nodos que se debe visitar en una búsqueda. Por ejemplo para calcular el coste del primer árbol binario de la imagen debemos hacer lo siguiente:\n",
        "\n",
        "* Primero tenemos el nodo 1, el cual tiene una frecuencia de 0.4 y se encuentra en el primer nivel.\n",
        "* El segundo nodo 2, que tiene una frecuencia de 0.1 y se encuentra en el segundo nivel. \n",
        "* Finalmente el nodo 3 con una frecuencia del 0.5 que está en el tercer nivel. \n",
        "\n",
        "Por lo que para calcular hacemos lo siguiente: coste = $(0.4 * 1) + (0.1 * 2) + (0.5 * 3)$ que nos da un coste promedio de $2.1$.\n",
        "\n",
        "Luego de hacer esto con cada árbol y sus combinaciones, el árbol binario de búsqueda óptimo para este caso es el último, ya que su coste promedio es de $1.6$\n",
        "\n",
        "Este procedimiento es lo que \n",
        "\n",
        "\n",
        "\n",
        "Este algoritmo puede implementarse de las siguientes maneras:\n",
        "\n",
        "* *Método Recursivo*\n",
        "\n",
        "* *Método Programación Dinámica*\n"
      ],
      "metadata": {
        "id": "K2lEWRDGa7LB"
      }
    },
    {
      "cell_type": "markdown",
      "source": [
        "##2.2 Código Método Recursivo\n",
        "\n",
        "###A continuación se mostrará la implementación del algoritmo Arbol binario de búsqueda en la forma recursiva:\n"
      ],
      "metadata": {
        "id": "qqYvcmeYVQkS"
      }
    },
    {
      "cell_type": "code",
      "source": [
        "import random\n",
        "import numpy as np\n",
        "import networkx as nx\n",
        "import pydot\n",
        "from networkx.drawing.nx_pydot import graphviz_layout\n",
        "\n",
        "contadorRecursivo = 0\n",
        "def optCost(freq, i, j):\n",
        "    global contadorRecursivo\n",
        "    contadorRecursivo +=1\n",
        "    # Casos base\n",
        "    if j < i:     # subarreglo sin elementos\n",
        "        return 0\n",
        "    if j == i:     # subarreglo con 1 elemento\n",
        "        return freq[i]\n",
        "    fsum = Sum(freq, i, j)\n",
        "    Min = 999999999999\n",
        "    for r in range(i, j + 1):\n",
        "        # llama recursivamente a la función pero desde el inicio -> r-1\n",
        "        # más la llamada desde r+1 -> final\n",
        "        cost = (optCost(freq, i, r - 1) + optCost(freq, r + 1, j))\n",
        "        if cost < Min:\n",
        "            Min = cost\n",
        "    return Min + fsum\n",
        "\n",
        "def optimal_bst_recursive(keys, freq, n, visualize, verbose):\n",
        "    if(visualize == True):\n",
        "      T = nx.DiGraph()\n",
        "      generate_binary_tree(T,keys) \n",
        "      pos = graphviz_layout(T, prog=\"dot\")\n",
        "      nx.draw(T,pos, with_labels=True, node_size=500, font_color=\"white\", font_size=10, font_weight=\"black\", width  =1.0, edge_color =\"green\")\n",
        "    return optCost(freq, 0, n - 1)\n",
        " \n",
        "def Sum(freq, i, j):\n",
        "    s = 0\n",
        "    for k in range(i, j + 1):\n",
        "        s += freq[k]\n",
        "    return s\n",
        "\n",
        "# FUNCION GENERADOR DE INSTANCIA\n",
        "def optimal_bst_instance_generator(n):\n",
        "    keys = sorted(random.sample(range(1, 100), n))\n",
        "    arr = np.random.random(n*2+1)\n",
        "    arr /= arr.sum()\n",
        "    p = list(arr[:n]) # Probabilidad de las claves\n",
        "    return keys, p\n",
        "\n",
        "# FUNCION GENERADOR DE ARBOL BINARIO\n",
        "nullnodes=0\n",
        "def generate_binary_tree(T,A):\n",
        "    global nullnodes\n",
        "    if len(A)==1: \n",
        "      T.add_node(A[0])\n",
        "      return A[0]\n",
        "    else:\n",
        "      pivote = random.randint(0,len(A)-1)\n",
        "      T.add_node(A[pivote])\n",
        "      if pivote > 0:\n",
        "        left_node = generate_binary_tree(T,A[0:pivote])\n",
        "        T.add_edge(A[pivote],left_node)\n",
        "      elif pivote == 0: \n",
        "        T.add_edge(A[pivote],\"nil\"+str(nullnodes)); nullnodes+=1\n",
        "      if pivote < len(A)-1:\n",
        "        right_node = generate_binary_tree(T,A[pivote+1:])\n",
        "        T.add_edge(A[pivote],right_node)\n",
        "      else: \n",
        "        T.add_edge(A[pivote],\"nil\"+str(nullnodes)); nullnodes+=1\n",
        "      return A[pivote]\n",
        "\n",
        "# Ejemplo\n",
        "keys = [10, 12, 20]\n",
        "freq = [34, 8, 50]\n",
        "n = len(keys)\n",
        "\n",
        "cost = optimal_bst_recursive(keys, freq, n, False, False)\n",
        "\n",
        "print(\"Las claves del árbol son:\",keys)\n",
        "print(\"y sus respectivas frecuencias:\", freq)\n",
        "print(\"\\nEl costo del árbol binario de búsqueda óptimo es:\", cost, \"con\",contadorRecursivo,\"llamadas recursivas\")"
      ],
      "metadata": {
        "id": "5Lk3rfA_Ddq3",
        "colab": {
          "base_uri": "https://localhost:8080/"
        },
        "outputId": "b2b4a7d6-0fb8-4b7b-ece9-0e705bd2536f"
      },
      "execution_count": null,
      "outputs": [
        {
          "output_type": "stream",
          "name": "stdout",
          "text": [
            "Las claves del árbol son: [10, 12, 20]\n",
            "y sus respectivas frecuencias: [34, 8, 50]\n",
            "\n",
            "El costo del árbol binario de búsqueda óptimo es: 142 con 15 llamadas recursivas\n"
          ]
        }
      ]
    },
    {
      "cell_type": "markdown",
      "source": [
        "Este método consiste en probar recursivamente todas las posibles combinaciones de los nodos y sus posiciones, calcula los mismos subproblemas una y otra vez, para así en cada iteración ver si el coste es menor.\n",
        "\n",
        "Definimos un arreglo con frecuencias que va desde $i$ -> $j$\n",
        "\n",
        "Para hacerlo, primero se definen los casos bases que son:\n",
        "\n",
        "1.  si $j < i$: cuando el arreglo no tiene elementos retorna 0.\n",
        "\n",
        "2.  si $j=i$: cuando el arreglo tiene un solo elemento, retorna la frecuencia de dicho elemento.\n",
        "\n",
        "Luego, mediante un ciclo for recorre todo el arreglo de frecuencias, eligiendo en cada iteración el nodo como raiz $k_r$,(en un arreglo que va desde $k_i$ hasta $k_j$)  y llamando a la función nuevamente de manera recursiva, pero esta vez desde $k_i$ -> $k_{r-1}$ y $k_{r+1}$ -> $k_j$\n",
        "\n",
        "y en cada una de éstas guardamos el coste mínimo, para finalmente retornar el mínimo del algoritmo.\n",
        "\n",
        "El problema de este método es el hecho de que se calculan muchas veces lo mismo, como veremos en el siguiente ejemplo: \n",
        "\n",
        "<a href=\"https://imgur.com/I9oLfRM\"><img src=\"https://imgur.com/I9oLfRM.png\" title=\"source: imgur.com\" /></a>\n",
        "\n",
        "Tenemos una lista con cuatro nodos, y el algoritmo divide en subproblemas a resolver como mencionamos anteriormente, pero podemos ver que el subproblema que toma los valores desde $2-3$ o $1-2$ se calculan en diferentes momentos, lo cual no lo hace muy eficiente en temas de tiempo. "
      ],
      "metadata": {
        "id": "ysYfHgh_fmT3"
      }
    },
    {
      "cell_type": "markdown",
      "source": [
        "## 2.3 Método Programación dinámica\n",
        "\n",
        "###A continuación se mostrará la implementación del algoritmo árbol binario de busqueda óptimo aplicando la programación dinámica:"
      ],
      "metadata": {
        "id": "fxCJfjzGj8TV"
      }
    },
    {
      "cell_type": "code",
      "source": [
        "def optimal_bst_dinamic(keys, freq, n, visualize,verbose):\n",
        "    contadorDinamica = 0\n",
        "    INT_MAX = 2147483647\n",
        "    # Matriz auxiliar para guardar costos\n",
        "    cost = [[0 for x in range(n)]\n",
        "               for y in range(n)]\n",
        "    root = [[0 for x in range(n)]\n",
        "               for y in range(n)]\n",
        "\n",
        "    for i in range(n):\n",
        "        cost[i][i] = freq[i]\n",
        "    if(verbose == True): \n",
        "      print(\"la matriz inicial con sus frecuencias:\")\n",
        "      for i in cost:\n",
        "        print(i)\n",
        "      print(\"\\n\")\n",
        "        \n",
        "    for L in range(2, n + 1):\n",
        "        for i in range(n - L + 2):\n",
        "            j = i + L - 1\n",
        "            if i >= n or j >= n:\n",
        "                break\n",
        "            off_set_sum = Sum(freq, i, j)\n",
        "            cost[i][j] = INT_MAX\n",
        "            for r in range(i, j + 1):\n",
        "                c = 0\n",
        "                if (r > i):\n",
        "                    c += cost[i][r - 1]\n",
        "                if (r < j):\n",
        "                    c += cost[r + 1][j]\n",
        "                c += off_set_sum\n",
        "                if (c < cost[i][j]):\n",
        "                    cost[i][j] = c\n",
        "                    root[i][j] = r\n",
        "\n",
        "                contadorDinamica+=1\n",
        "\n",
        "            if(verbose == True): \n",
        "              print(\"la matriz hasta el momento:\")\n",
        "              for i in cost:\n",
        "                print(i)\n",
        "              print(\"\\n\")\n",
        "\n",
        "    if(verbose == True):\n",
        "      print(\"SubEstructura óptima:\")\n",
        "      for i in root: print(i)\n",
        "            \n",
        "    return cost[0][n - 1],root,contadorDinamica\n",
        "\n",
        "# Ejemplo\n",
        "keys = [10, 12, 20]\n",
        "freq = [34, 8, 50]\n",
        "n = len(keys)\n",
        "cost,root,cont = optimal_bst_dinamic(keys, freq, n, False, False)\n",
        "\n",
        "print(\"Las claves del árbol son:\",keys)\n",
        "print(\"y sus respectivas frecuencias:\", freq, end=\"\\n\\n\")\n",
        "print(\"\\nEl costo del árbol binario de búsqueda óptimo es:\", cost,\"con\", cont ,\"subProblemas a resolver\")"
      ],
      "metadata": {
        "colab": {
          "base_uri": "https://localhost:8080/"
        },
        "id": "CYHgqOLSqnnO",
        "outputId": "799c8514-8b36-472d-8e15-b740c332c853"
      },
      "execution_count": null,
      "outputs": [
        {
          "output_type": "stream",
          "name": "stdout",
          "text": [
            "Las claves del árbol son: [10, 12, 20]\n",
            "y sus respectivas frecuencias: [34, 8, 50]\n",
            "\n",
            "\n",
            "El costo del árbol binario de búsqueda óptimo es: 142 con 7 subProblemas a resolver\n"
          ]
        }
      ]
    },
    {
      "cell_type": "markdown",
      "source": [
        "Este método resuelve el problema de eficiencia del método anterior, puesto que la gracia es al momento de resolver un subProblema por primera vez, guarda dicho valor dentro de una matriz auxiliar, a la cual se volverá a acceder siempre que nos encontremos con algun subProblema que ya se resolvio anteriormente, en temas de complejidad espacial se gasta más debido a las diferentes matrices que se implementan, pero por lo mismo se resuelve el problema de tiempo en los casos ya resueltos."
      ],
      "metadata": {
        "id": "BR4UZ68MrGCN"
      }
    },
    {
      "cell_type": "markdown",
      "source": [
        "##2.4. Ejecución del algoritmo recurisvo paso a paso con verbose = True "
      ],
      "metadata": {
        "id": "JuKW6gmWdhue"
      }
    },
    {
      "cell_type": "code",
      "source": [
        "keys = [10, 12, 20, 50]\n",
        "freq = [24, 8, 15, 52]\n",
        "n = len(keys)\n",
        "print(\"Las claves del árbol son:\",keys)\n",
        "print(\"y sus respectivas frecuencias:\", freq)\n",
        "cost,root,cont = optimal_bst_dinamic(keys, freq, n, False, True)\n",
        "print(\"\\nEl costo del árbol binario de búsqueda óptimo es:\", cost, \"con\", cont,\"subProblemas a resolver\")\n"
      ],
      "metadata": {
        "id": "bu2J9cUkuzRv",
        "colab": {
          "base_uri": "https://localhost:8080/"
        },
        "outputId": "7be3371e-f8e2-4abf-ca21-4335fd013901"
      },
      "execution_count": null,
      "outputs": [
        {
          "output_type": "stream",
          "name": "stdout",
          "text": [
            "Las claves del árbol son: [10, 12, 20, 50]\n",
            "y sus respectivas frecuencias: [24, 8, 15, 52]\n",
            "la matriz inicial con sus frecuencias:\n",
            "[24, 0, 0, 0]\n",
            "[0, 8, 0, 0]\n",
            "[0, 0, 15, 0]\n",
            "[0, 0, 0, 52]\n",
            "\n",
            "\n",
            "la matriz hasta el momento:\n",
            "[24, 40, 0, 0]\n",
            "[0, 8, 0, 0]\n",
            "[0, 0, 15, 0]\n",
            "[0, 0, 0, 52]\n",
            "\n",
            "\n",
            "la matriz hasta el momento:\n",
            "[24, 40, 0, 0]\n",
            "[0, 8, 31, 0]\n",
            "[0, 0, 15, 0]\n",
            "[0, 0, 0, 52]\n",
            "\n",
            "\n",
            "la matriz hasta el momento:\n",
            "[24, 40, 0, 0]\n",
            "[0, 8, 31, 0]\n",
            "[0, 0, 15, 82]\n",
            "[0, 0, 0, 52]\n",
            "\n",
            "\n",
            "la matriz hasta el momento:\n",
            "[24, 40, 78, 0]\n",
            "[0, 8, 31, 0]\n",
            "[0, 0, 15, 82]\n",
            "[0, 0, 0, 52]\n",
            "\n",
            "\n",
            "la matriz hasta el momento:\n",
            "[24, 40, 78, 0]\n",
            "[0, 8, 31, 106]\n",
            "[0, 0, 15, 82]\n",
            "[0, 0, 0, 52]\n",
            "\n",
            "\n",
            "la matriz hasta el momento:\n",
            "[24, 40, 78, 177]\n",
            "[0, 8, 31, 106]\n",
            "[0, 0, 15, 82]\n",
            "[0, 0, 0, 52]\n",
            "\n",
            "\n",
            "SubEstructura óptima:\n",
            "[0, 0, 0, 3]\n",
            "[0, 0, 2, 3]\n",
            "[0, 0, 0, 3]\n",
            "[0, 0, 0, 0]\n",
            "\n",
            "El costo del árbol binario de búsqueda óptimo es: 177 con 16 llamadas recursivas\n"
          ]
        }
      ]
    },
    {
      "cell_type": "markdown",
      "source": [
        "##2.4. Ejecución del algoritmo recursivo con visualize = True"
      ],
      "metadata": {
        "id": "1uCRjCEGlqxG"
      }
    },
    {
      "cell_type": "code",
      "source": [
        "keys = [10, 12, 20]\n",
        "freq = [34, 8, 50]\n",
        "n = len(keys)\n",
        "contadorRecursivo = 0\n",
        "cost = optimal_bst_recursive(keys, freq, n, True, False)\n",
        "print(\"Las claves del árbol son:\",keys)\n",
        "print(\"y sus respectivas frecuencias:\",freq)\n",
        "print(\"\\nEl costo del árbol binario de búsqueda óptimo es:\", cost, \"con\",contadorRecursivo,\"llamadas recursivas\")"
      ],
      "metadata": {
        "id": "rgYb7YLNlpRi",
        "colab": {
          "base_uri": "https://localhost:8080/",
          "height": 388
        },
        "outputId": "65c15e8b-39df-4b01-d190-340bf8f44bcc"
      },
      "execution_count": null,
      "outputs": [
        {
          "output_type": "stream",
          "name": "stdout",
          "text": [
            "Las claves del árbol son: [10, 12, 20]\n",
            "y sus respectivas frecuencias: [34, 8, 50]\n",
            "\n",
            "El costo del árbol binario de búsqueda óptimo es: 142 con 15 llamadas recursivas\n"
          ]
        },
        {
          "output_type": "display_data",
          "data": {
            "text/plain": [
              "<Figure size 432x288 with 1 Axes>"
            ],
            "image/png": "[encoded data removed]"
          },
          "metadata": {}
        }
      ]
    },
    {
      "cell_type": "markdown",
      "source": [
        "# 3. Correctitud \n",
        "\n",
        "### **Teorema (Correctitud Método bottom-up).**\n",
        "\n",
        "El algoritmo retorna el árbol de búsqueda óptimo, es decir, un árbol que minimice la cantidad esperada de nodos visitados (costo esperado).\n",
        "\n",
        "## Prueba del Teorema\n",
        "\n",
        "Para demostrar esto, primero debemos explicar cual es la subestructura óptima de este problema y aplicar el método de programación avanzada.\n",
        "\n",
        "Cualquier subárbol en OBST contiene claves en orden $k_i$ -> $k_j$ , donde $1 ≤ i ≤ j ≤ n$.\n",
        "\n",
        "El subárbol que contiene claves $k_i$ -> $k_j$ tiene hojas con claves ficticias $d_{i-1}$ -> $d_j$. Como veremos en la siguiente imagen:\n",
        "\n",
        "<a href=\"https://imgur.com/dMzpVk6\"><img src=\"https://imgur.com/dMzpVk6.png\" title=\"source: imgur.com\" /></a>\n",
        "\n",
        "Cada subproblema consiste en seleccionar una clave $k_i$ como nodo raíz, y obtener el coste mínimo basándose en el coste mínimo de los subproblemas que se forman, partiendo desde $k_1$ y resolviendo desde $k_2$ hasta $k_n$, hasta finalmente escoger $k_n$ y resolver desde $k_1$ hasta $k_{n-1}$\n",
        "\n",
        "llevando esto a un caso general, el coste del subárbol con raíz $k_x$ será igual al coste mínimo de los subárboles más la probabilidad de visitar el nodo con clave $k_x$.\n",
        "\n",
        "La probabilidad de visitar un nodo es igual a la probabilidad de buscar su clave más la probabilidad de buscar la clave de alguno de sus hijos. Es decir, $\\sum\\limits_{k=i}^j p_j$.\n",
        "\n",
        "Por lo tanto, el coste del árbol con raíz $k_x$ es la suma del coste de la busqueda de alguno de sus hijos más el coste de busqueda del propio elemento:\n",
        "\n",
        "$c_{i,j}(x)=c_{i,x-1} + c_{x+1,j} + \\sum\\limits_{k=1}^j p_j$ ; siendo $i$ el elemento inicial y $j$ el elemento final.\n"
      ],
      "metadata": {
        "id": "-ifxrrqlC4Hc"
      }
    },
    {
      "cell_type": "markdown",
      "source": [
        "# 4. Tiempo de ejecución\n"
      ],
      "metadata": {
        "id": "5XsT6q0fXaSa"
      }
    },
    {
      "cell_type": "markdown",
      "source": [
        "### **Teorema (Tiempo de ejecución Método Bottom-up).**\n",
        "\n",
        "*El algoritmo requiere un tiempo $O(n^3)$*\n",
        "\n",
        "## Prueba del teorema\n",
        "\n",
        "Para comprobar esto debemos analizar lo que realiza el algoritmo junto con la cantidad de subProblemas que este resuelve, donde se utilizan tres bucles for anidados y cada uno de estos bucles toma como máximo n valores.\n",
        "\n",
        "A continuación podemos ver el pseudocodigo de lo anterior:\n",
        "\n",
        "<a href=\"https://imgur.com/SFaYc8G\"><img src=\"https://imgur.com/SFaYc8G.png\" title=\"source: imgur.com\" /></a>\n",
        "\n",
        "$T(n)=\\sum\\limits_{l=1}^{n} \\sum\\limits_{i=1}^{n-l+1} \\sum\\limits_{j=i}^{n-1+1} O(1)$\n",
        "\n",
        "(Dentro de cada bucle tenemos operaciones con complejidad $O(1)$)\n",
        "\n",
        "Y desarrollando la misma fórmula matemática, podemos llegar a:\n",
        "\n",
        "$T(n)=\\sum\\limits_{l=1}^{n} \\sum\\limits_{i=1}^{n-l+1} n$\n",
        "\n",
        "$T(n)=\\sum\\limits_{l=1}^{n} n^2$\n",
        "\n",
        "$T(n) = n^3$\n",
        "\n",
        "\n",
        "\n",
        "\n",
        "\n"
      ],
      "metadata": {
        "id": "gQs6Az2vmJVv"
      }
    },
    {
      "cell_type": "markdown",
      "source": [
        "# 5. Experimentos\n",
        "\n",
        "## 5.1. Número de comparaciones\n",
        "\n",
        "A continuación se muestra gráficamente una comparación de tiempo de ejecución entre:\n",
        "\n",
        "* Árbol binario de búsqueda óptimo Recursivo\n",
        "\n",
        "* Árbol binario de búsqueda óptimo con Programación Dinámica\n"
      ],
      "metadata": {
        "id": "2hYUM_9OHF38"
      }
    },
    {
      "cell_type": "code",
      "source": [
        "import matplotlib.pyplot as plt\n",
        "import datetime\n",
        "from timeit import repeat\n",
        "\n",
        "x=[]; y=[]; y1=[]\n",
        "verbose = False\n",
        "for n in range(1,15):\n",
        "  keys,freq = optimal_bst_instance_generator(n)\n",
        "\n",
        "  t1 = repeat(setup=\"from __main__ import optimal_bst_recursive\", stmt=f\"optimal_bst_recursive({keys}, {freq}, {len(keys)}, {False}, {False})\", repeat=1, number=10)\n",
        "  t2 = repeat(setup=\"from __main__ import optimal_bst_dinamic\", stmt=f\"optimal_bst_dinamic({keys}, {freq}, {len(keys)}, {False}, {False})\", repeat=1, number=10)\n",
        "\n",
        "  x.append(n)\n",
        "  y.append(t1)\n",
        "  y1.append(t2)\n",
        "\n",
        "plt.plot(x,y)\n",
        "plt.plot(x,y1)\n",
        "plt.legend([\"optimal_bst_recursive\",\"optimal_bst_dinamic\"])\n",
        "\n",
        "plt.xlabel('n')\n",
        "plt.ylabel('time in ms')\n",
        "plt.show()"
      ],
      "metadata": {
        "id": "LxKv6b1WE-t8",
        "colab": {
          "base_uri": "https://localhost:8080/",
          "height": 279
        },
        "outputId": "8d26dc21-dd97-4b16-aafa-049083dfafb0"
      },
      "execution_count": null,
      "outputs": [
        {
          "output_type": "display_data",
          "data": {
            "text/plain": [
              "<Figure size 432x288 with 1 Axes>"
            ],
            "image/png": "[encoded data removed]"
          },
          "metadata": {
            "needs_background": "light"
          }
        }
      ]
    },
    {
      "cell_type": "markdown",
      "source": [
        "### Análisis de resultados\n",
        "\n",
        "Luego de ver el gráfico, podemos comprobar como es más eficiente el metodo bottom-up y lo importante que es almacenar los resultados para asi no tener que volver a calcular los valores nuevamente y como esta misma crece de forma exponencial."
      ],
      "metadata": {
        "id": "0LpupLb_HnWS"
      }
    }
  ]
}