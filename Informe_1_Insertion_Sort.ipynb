{
  "nbformat": 4,
  "nbformat_minor": 0,
  "metadata": {
    "colab": {
      "name": "Informe 1-Insertion Sort",
      "provenance": []
    },
    "kernelspec": {
      "name": "python3",
      "display_name": "Python 3"
    },
    "language_info": {
      "name": "python"
    }
  },
  "cells": [
    {
      "cell_type": "markdown",
      "source": [
        "# 1. Problema de ordenamiento\n",
        "\n",
        "Para este tipo de problemas, se nos entrega una lista de números los que vienen desordenados y mediante un algoritmo, en este caso el InsertionSort, deberán quedar ordenados de menor a mayor. A continuación se muestra un ejemplo de como será la entrada y salida a nuestro problema.\n",
        "\n",
        "**Entrada**: Secuencia de n números $[a_1,a_2,...,a_n]$\n",
        "\n",
        "**Salida**: Permutación ordenada de la secuencia de entrada: $[a_1',a_2',...,a_n']$, de tal manera que $a_1'\\leq a_2' \\leq... \\leq a_n'$.\n",
        "\n",
        "Este algoritmo es uno de los más simples a la hora de ordenar una secuencia de números, esto debido a su fácil implementación y entendimiento. El tamaño del problema depende directamente de la cantidad de elementos en el arreglo ingresado."
      ],
      "metadata": {
        "id": "jT2qsbCS3Fzu"
      }
    },
    {
      "cell_type": "markdown",
      "source": [
        "# 2. Insertion Sort"
      ],
      "metadata": {
        "id": "M4SI_VRjdHR3"
      }
    },
    {
      "cell_type": "markdown",
      "source": [
        "## 2.1 Descripción del Algoritmo\n",
        "\n",
        "\n",
        "El funcionamiento de este algoritmo básicamente consiste en dividir nuestro arreglo una parte ordenada y otra desordenada, donde sacamos elementos del conjunto desordenado y las integramos en la posición que le corresponde dentro del conjunto ordenado.\n",
        "\n",
        "\n",
        "\n",
        "*   Inicia comparando el segundo elemento del arreglo con el anterior. Si \n",
        "es mayor, entonces los elementos intercambian sus posiciones. Si es menor, significa que está en su posición correcta y no realizamos un intercambio.\n",
        "\n",
        "*   Luego, se avanza a la siguiente posición del arreglo (parte desordenada) y se compara e intercambia con todo el conjunto anterior (parte ordenada) hasta el caso en que el número anterior sea menor, lo que significa que ya quedó en su posición adecuada dentro de la parte ordenada del arreglo.\n",
        " \n",
        "*   Esto se repite hasta que se llegue a la ultima posición del arreglo y se ubique el número en su posición correspondiente.\n"
      ],
      "metadata": {
        "id": "joUJdrxZF6Ux"
      }
    },
    {
      "cell_type": "markdown",
      "source": [
        "##2.2 Código\n",
        "\n",
        "###A continuación se mostrará la implementación del insertion sort:\n"
      ],
      "metadata": {
        "id": "qqYvcmeYVQkS"
      }
    },
    {
      "cell_type": "code",
      "source": [
        "from termcolor import colored\n",
        "\n",
        "def insert_sort(arr, verbose=False):\n",
        "    cont = 0 # Contador de comparaciones\n",
        "    tamanio = len(arr) # Tamaño del arreglo\n",
        "    \n",
        "    if verbose == True: print(\"Arreglo de entrada:\",arr)\n",
        "\n",
        "    # recorre todas las posiciones del arreglo\n",
        "    for i in range(1,tamanio):\n",
        "\n",
        "        if verbose == True: \n",
        "            print(\"\\nComprobando elemento A[\",i,\"] =\",arr[i])\n",
        "\n",
        "        already_sorted = True \n",
        "\n",
        "        j = i - 1 # Posición actual en el arreglo\n",
        "        resp = arr[i] # Creamos una variable de respaldo \n",
        "        comp = 0; # Contador de comparaciónes para cada elemento\n",
        "\n",
        "        # Se recorre el arreglo hacia atras intercambiando hasta que sea menor\n",
        "        while (j>=0 and resp < arr[j]):\n",
        "            already_sorted = False\n",
        "            arr[j+1] = arr[j] # Intercambiamos los elementos\n",
        "            j -= 1 # Disminuimos una posición\n",
        "            cont += 1 # Aumentamos el contador de comparaciones\n",
        "            comp += 1\n",
        "\n",
        "        # Reasiganmos la variable \n",
        "        arr[j+1] = resp \n",
        "\n",
        "        if j != -1: # Se suma una comparación extra luego de cada iteración\n",
        "            cont+=1\n",
        "            comp+=1\n",
        "\n",
        "        if verbose == True: # Se imprime la información después de cada iteración\n",
        "            if already_sorted == False:\n",
        "                print(\"Se realiza intercambio:\")\n",
        "                print(colored(f\"{str(arr[:i+1])[1:-1]}\",\"blue\"),\",\",(str(arr[i+1:])[1:-1]))\n",
        "            else:\n",
        "                print(\"Está en la posición correcta\")\n",
        "                print(colored(f\"{str(arr[:i+1])[1:-1]}\",\"blue\"),\",\",(str(arr[i+1:])[1:-1]))\n",
        "\n",
        "            print(\"Número de comparaciones =\",comp)\n",
        "\n",
        "    if verbose == True: \n",
        "      print(\"\\nArreglo de salida:\",arr)\n",
        "\n",
        "    return arr, cont\n",
        "\n",
        "# Ejemplo de insertion sort\n",
        "A = [6,2,4,9,3]\n",
        "print(\"Entrada: \",A)\n",
        "array, contador = insert_sort(A)\n",
        "print(\"Salida: \",array)\n",
        "print(\"Total de comparaciones: \", contador)\n"
      ],
      "metadata": {
        "id": "Ke5XylBEVPAM",
        "colab": {
          "base_uri": "https://localhost:8080/"
        },
        "outputId": "6a3c5665-561f-48f2-c63f-84b0e59da7f1"
      },
      "execution_count": 102,
      "outputs": [
        {
          "output_type": "stream",
          "name": "stdout",
          "text": [
            "Entrada:  [6, 2, 4, 9, 3]\n",
            "Salida:  [2, 3, 4, 6, 9]\n",
            "Total de comparaciones:  8\n"
          ]
        }
      ]
    },
    {
      "cell_type": "markdown",
      "source": [
        "##2.3 Ejemplo:\n",
        "\n",
        "Tenemos el siguiente arreglo con una secuencia de números que debemos ordenar:\n",
        "\n",
        "$a[6,2,4,9,3]$\n",
        "\n",
        "1.   En la primera iteración comparamos el 2 con el 6, como es menor, realizamos un intercambio:\n",
        "\n",
        "     $a[2,6,4,9,3]$\n",
        "\n",
        "2.  En la segunda iteración comparamos el 4 con el 6, como es menor,  realizamos un intercambio. Luego comparamos el 4 con el 2, como es mayor, el número está en la posición correcta.\n",
        "\n",
        "     $a[2,4,6,9,3]$\n",
        "\n",
        "3.  En la tercera iteración comparamos el 9 con el 6, como es mayor, no realizamos un intercambio y seguimos a la siguiente posición.\n",
        "\n",
        "     $a[2,4,6,9,3]$\n",
        "\n",
        "4.  Por último, comparamos el 3 con el 9, 6 y 4 realizando los intercambios debido a que es menor para asi terminar con el arreglo ordenado.\n",
        "\n",
        "     $a[2,3,4,6,9]$"
      ],
      "metadata": {
        "id": "V6uOwbgIVPsD"
      }
    },
    {
      "cell_type": "markdown",
      "source": [
        "##2.4. Ejecución del algoritmo paso a paso con verbose=True"
      ],
      "metadata": {
        "id": "JuKW6gmWdhue"
      }
    },
    {
      "cell_type": "code",
      "source": [
        "import random\n",
        "a = random.sample(range(1, 50), 5)\n",
        "a,c= insert_sort(a,verbose=True)\n",
        "print(\"Número de comparaciones:\", c)"
      ],
      "metadata": {
        "colab": {
          "base_uri": "https://localhost:8080/"
        },
        "id": "bu2J9cUkuzRv",
        "outputId": "41b405a4-1d7c-4878-8a5f-6b5a7fbf42a9"
      },
      "execution_count": 103,
      "outputs": [
        {
          "output_type": "stream",
          "name": "stdout",
          "text": [
            "Arreglo de entrada: [27, 10, 4, 33, 37]\n",
            "\n",
            "Comprobando elemento A[ 1 ] = 10\n",
            "Se realiza intercambio:\n",
            "\u001b[34m10, 27\u001b[0m , 4, 33, 37\n",
            "Número de comparaciones = 1\n",
            "\n",
            "Comprobando elemento A[ 2 ] = 4\n",
            "Se realiza intercambio:\n",
            "\u001b[34m4, 10, 27\u001b[0m , 33, 37\n",
            "Número de comparaciones = 2\n",
            "\n",
            "Comprobando elemento A[ 3 ] = 33\n",
            "Está en la posición correcta\n",
            "\u001b[34m4, 10, 27, 33\u001b[0m , 37\n",
            "Número de comparaciones = 1\n",
            "\n",
            "Comprobando elemento A[ 4 ] = 37\n",
            "Está en la posición correcta\n",
            "\u001b[34m4, 10, 27, 33, 37\u001b[0m , \n",
            "Número de comparaciones = 1\n",
            "\n",
            "Arreglo de salida: [4, 10, 27, 33, 37]\n",
            "Número de comparaciones: 5\n"
          ]
        }
      ]
    },
    {
      "cell_type": "markdown",
      "source": [
        "####En cada iteración se va comprobando desde $a[1]$ hasta $a[4]$ los elementos del arreglo y posicionandolos de manera correcta en la parte ordenada del arreglo."
      ],
      "metadata": {
        "id": "mvsQBI_HZoKG"
      }
    },
    {
      "cell_type": "markdown",
      "source": [
        "# 3. Tiempo de ejecución\n",
        "\n",
        "### **Teorema (Tiempo de ejecución).**\n",
        "\n",
        "*El algoritmo **Insert Sort** tiene un **tiempo de ejecución de** $O(n)$ en el mejor caso.*\n",
        "\n",
        "## Prueba del teorema\n",
        "\n",
        "Al ver el ejemplo, podemos dar cuenta que el algoritmo en el mejor de los casos, el cual es que todos los elementos ya se encuentren ordenados de manera ascendente. El algoritmo tendrá que recorrer desde $A[1]$ hasta $A[N]$ realizando un total de $N-1$ comparaciones unicamente. \n",
        "\n",
        "####Esto podemos comprobarlo en el siguiente ejemplo con verbose = True: "
      ],
      "metadata": {
        "id": "5XsT6q0fXaSa"
      }
    },
    {
      "cell_type": "code",
      "source": [
        "arr = [1,2,3,4]\n",
        "arr, comp = insert_sort(arr,verbose=True)\n",
        "print(\"Número total de comparaciones: \", comp)"
      ],
      "metadata": {
        "colab": {
          "base_uri": "https://localhost:8080/"
        },
        "id": "XHq1uVyTyei-",
        "outputId": "443835f5-d4f2-4314-d485-a135ac4022fb"
      },
      "execution_count": 104,
      "outputs": [
        {
          "output_type": "stream",
          "name": "stdout",
          "text": [
            "Arreglo de entrada: [1, 2, 3, 4]\n",
            "\n",
            "Comprobando elemento A[ 1 ] = 2\n",
            "Está en la posición correcta\n",
            "\u001b[34m1, 2\u001b[0m , 3, 4\n",
            "Número de comparaciones = 1\n",
            "\n",
            "Comprobando elemento A[ 2 ] = 3\n",
            "Está en la posición correcta\n",
            "\u001b[34m1, 2, 3\u001b[0m , 4\n",
            "Número de comparaciones = 1\n",
            "\n",
            "Comprobando elemento A[ 3 ] = 4\n",
            "Está en la posición correcta\n",
            "\u001b[34m1, 2, 3, 4\u001b[0m , \n",
            "Número de comparaciones = 1\n",
            "\n",
            "Arreglo de salida: [1, 2, 3, 4]\n",
            "Número total de comparaciones:  3\n"
          ]
        }
      ]
    },
    {
      "cell_type": "markdown",
      "source": [
        "Como podemos apreciar, luego de cada iteración se realiza unicamente una comparación con el elemento anterior, y como empezamos desde el segundo elemento, nos da un total de $N-1$ comparaciones."
      ],
      "metadata": {
        "id": "2HQH2ltkBUbq"
      }
    },
    {
      "cell_type": "markdown",
      "source": [
        "# 4. Correctitud\n",
        "\n",
        "### **Teorema (Correctitud).**\n",
        "\n",
        "*El algoritmo **InsertionSort** genera un arreglo: $[a_1',a_2',...,a_n']$, con los mismos elementos del arreglo de entrada ordenados de menor a mayor, es decir,* $a_1'\\leq a_2' \\leq... \\leq a_n'$.\n",
        "\n",
        "\n",
        "## Prueba del Teorema\n",
        "\n",
        "Previamente observamos que en cada iteración de BubbleSort agregamos un nuevo elemento ordenado al final del arreglo.\n",
        "\n",
        "Por lo que probaremos la siguiente **propiedad invariante de bucle** para el Insertion Sort:\n",
        "\n",
        "> Al comienzo de cada iteración en una posición $i$, los elementos desde $i-1$ estarán ordenados de menor a mayor respectivamente. \n",
        "\n",
        "**Inicialización**\n",
        "\n",
        "Al comienzo de la primera iteración (i=1), el elemento anterior (i=0) es un conjunto ordenado, debido a que es un elemento único.\n",
        "\n",
        "![1.png](data:image/png;base64,iVBORw0KGgoAAAANSUhEUgAAAekAAABDCAYAAAC4Pv2rAAAAAXNSR0IArs4c6QAAAARnQU1BAACxjwv8YQUAAAAJcEhZcwAADsMAAA7DAcdvqGQAADnQSURBVHhe7b0He1vpkSb6EkQgQCQCBHPOFCkGkZQoSmp1bvd6HMZhxr577/6E/Q33Z1xP2PF41489wd61Z6an3Z7uVisnZlLMmSBBgMg5EbfqO4BEqdVr72OCzXDe7k8ggIMDnDpV9VZ9ob6Cjz66nikt3QdQgEyGHo4ZmUwB0ukCpFIKFBZmoFQe8KsoKJDePw7wdyWTCvh8Wmq11C7CZmtHZWUd/R4lFApF9sj8g+9BOq1APK6hpqbfpUJRUQJabYx+S4p+C8vneFBAgkkkEnC73XA6nXA4HKiurkZjYyPUarWQzXlETi4ejwculwt7e3tCLg0NDVCpVKTHhdkjzx8ODg5IZ5NCZzY3N2E0GlFeXg69Xk96XET6/TU4mRMAlks8Hhf6sr6+DrPZjIqKCiEfrVZ7ruXCtsRy2djYeK4vJpPpXMuFr5tl4/f7UfD0aWOmvn6XXjxGVnwt+Pu/nhvCJB2PFxIR6cnhdhAZ3UR9/TBaWrq+RqfL8pACJylgYdkcr3yYjGKxGHZ2doQBLS8vo729Hb29vcLhMlGfR7BcotGokMvW1pZwum1tbejp6YFGozm3wQsjnU4LMtre3sbs7CwFuzYR1DEpFRcXZ486f2C5RCIREbhMTU0JImpubobVaoXBYDi3ZMRyYVtiuUxPT6OsrEzoS2lp6bmWC183y4YTo4L5+epMc/NO9q3zi1hMSQLRY3e3G3b7+2hquonOzj5B0ufZ6bIBMRGtrq5ifn4eXV1dGBoagk6nO7ckzWCHmyPolZUVIZeBgQFB0qwz5xXsWDiw46BuYmJCkFFrayssFovIps8rUqmU0Bm2o6dPn6KyslIEvExKnD2eV+Tksra2htHRUSEXDng5uDvPcuEsmm3JbrejYGmpKtPSIpN0NCqR9M7ORcoCPqAo901cuNB/rrt1GTkyYiKam5tDd3c3Ll++LEiaCem8IpcVsXPhHgaWy+DgoJDJeQ5ecpkRk/TY2Jjo0mWSzmWM5xVMRuFwWJD048ePUVVVhY6ODkHS3LV7XnFYLq8GL+dZLkzSLBvukTq+wdZTAe5eftHtz10O57W75VXIcvjDkGX0ArIsXo/DcpFlJOOPgUzSMmTIkCFDxgmFTNIyZMiQIUPGCYVM0jJkyJAhQ8YJhUzSMmTIkCFDxgmFTNIyZMiQIUPGCYVM0jJkyJAhQ8YJhUzSMmTIkCFDxgmFTNIyZMiQIUPGCYVM0jJkyJAhQ8YJhUzSMmTIkCFDxgmFTNIyZMiQIUPGCYVM0jJkyJAhQ8YJxbGTNNeUz7WDA6ml01LLPT84dEyunUdwAf7njQQjti/LPh4ceu9M49B1ZjLZa2c5kMLkmvTa4eO4ZT9/RnH4WnMyOXhJHtQOHUP/i3Yukb141p+cHXE7LMOzjsPX+lw/XtWXL9nQ2ZXL82sU100yyMrij22vk1e+8LVk0nw9dI2i0fV+6W+yJfAln33T+ePACpAzKtGOQTFOFiRtENeckwM/ZpsIXM6VPCRIOsBkI8kkF8Cl0/zIsqLGx0mHyyB5vdAbWV9e6ItkT9J7QkznBiyTA7KX58nPH9lyPodbvnFs+0nT/RctEgSCAWDfRc0D+OjvaBxI0ntFOkBnAEpLAasVsJgBvRZQK+mHFkgtX5D2kzbAbr9I7X2xn3RnZ5/YG/jr2sQ/QxFeJp2E27EF184WtlwBBFOFsNW2oLKiHDWlRhSpC6HIo2By+0nznsnz8/PHuJ+0pPzpZAKpRAwBnwd+rwf7pDReUppAKEI6QzGmUg2D2QJTiQU2WylKzEaYDTqoVYVQKvIXg75uP+mBgQEUFRXldT9pdqTsRRPREKLhAMnDBbfbDbfHh2A4jniK7EVrgE5vhJUMyWK1kB0ZoddpJV1RFCCPZiQcPu8nvb6+jvHx8a93P+msA80cpMiO4nBub2HPboc7qkNGY0ZTWxVsVgO0SgUKSS75RG7fZN6X/cmTJ2I/ad43uby8PK/7Juf0JU76EgsH4WFd4eb1IxCOIpZMQaUpJt9rJF2xSq3EBKNeBy05XpZLQR79y9e1n/RBOoGDVBSO9VXYSVcdvgh8kTgO/oB1ZArIpygKYayog6WqHi2VJag064WcjtIPcyCQ20+68L/+V8P/a7EQc+YJuUAjTc4jEQGcdmBjGXg2C0xNUpsGZp4Bcwv0+jawswdSHjqWji8kblRSUxFJs7/Npx2lUgqEQhoEg+XUmmGxNJDTr0BhYaFox4qs0FiRUrEgNhemMDP6AA9GpzC1tIWE2gyN3oTyEj00SmVe5ZJMJhEIBODxMEHuC+Oprq4WgYuSvvvIkXOs/B8FKbGQDwGPE5trS1iaf4aZ6SlMT01hcnIGc4srWFpZx47LDY+fSCtJnyUj0mgosFISSRdKJJ0PJ8Ny8fv98Pl8QjYsF3a8LJN86Esu68uQIaUpaPG5duDYWsPi3CzJYxITkxOYIkOanVvGxtYu7Hv78IfICbMhKeg30e9Sk9NVkCHl5JEPteHfyc6F5eJwOKDX6wVB5z+o+zKExOj3pJMxJCNerMxOYPLRY0wv+WH3HMBSQcGduRhalSKvgS6DnS7rjNfrxc7OjghYSimIYvlwYHdkeG4/EiR9icK374Bjm/RF2NA06cskpmdmyPcuYG3Tjq1dF7zBMCLxJA4KCsmMXuhLzr/kw46+Si7FxRQ4HKVcXsFBOoZ0zIflyacYu/M5Ho1NUpsSicjc/IJ4XFiYF48vtYVFzC2twpVQIEKBXpmpWDTWn6PUIZHhk2zY9+adpBmZNBCirNmxAjx5ANy6RY8TwPQiYHeAIjvKqH2UWTuBXSJqCh6wvUtkTRk2uRi6YYCGyJoz6nzhRJE0g4QWD3vh213B6P07uP3ZFxidW8WmOwxdWSPKyitQX24W0e6ZImkBUtBUHMmoD1tLsyJAuXeX2oOnmF5YxdqWAy63l37TPtzsfHbJyVC2v727D18wSpGdThi4obhIOJZ8OODjJmkB0olEmDIg5ybJ5CHu3/oMD56M4en0Ala3Hdhzeek30e8hQ3LuSDLZJEPyBGOIHxRQdl1MjldFtkROmE6XD7U5SSTNepQ5SCLid8G1OYfHd8iOPr+PZUcBQhkDGttr6L6ZUEwkne9M+thIOgcma+FDfPDurWOa9eWLz3H/0VM8GZ/F8vo2dp1u+IQOe+B2UmBHjndr2w6nJ4Jw/ADqIr5nKuFjWFnOEkmnKWNMBJ2YeEx+5dYXmFzcwMK6Hftky26Pm/zKvvB3rzYXve/y+pEx2KApq0VTuQU1ViMK80jS+esPzIIJmjPofSLdZ+NEzo8B8rVYoYw6kASKDIC1DKgsByiohZJec20Cs3TsAyJ0JvNlOtZL2fUB610uRDzDyJDQ0skoZZC72FicxixlSmOTz7BIWaPd4YQ7ECIjooiXBXLG8DyDJjJy76xhfnoM9+/exZOxGTxb3YUvmkEhd82Vl1OgUgqbVQ/lQRh+Bx07+QRPHj3Cw6czWNp00LFJJFIH2TOfcuR0wk06MTeBcTKku/efYmZpGw5/gqJYA8ylZaioKIeVs8PCBAJ7G1ieGcOjhw9IJuOYXdmBkwwplT6esbSvA3xV7OC4mzedjCMadGPPvopnU6MYn5jA2OwiVkk3XO4QIjHKMs+YDYnr50Y2lIqH4HNtY2V2FKOP7uM2BboTz1aw5fIjqdCg2GxFeXklbBYzjDolUqF97K7NY+LJI9IZyjBn6FiHF9Ekj8GeLTkdpBIigHFRcLK6uYUdNwW/ZEZKrQHGEqnbn4OFLzV63Wq1wGw0wFCkocQx/wlc3jNpSohAAQvmxoCP/xV4PAus+4GaduDSCPDWW8Ab14Grg0BnI1Bvo8+EKLveoeMoo2ZyVpuIyM1AhZWjufx0e5+kTJqzyFhwD+sLk7j/2e9w+zE55eVdhNIKaM02NHb2obmpAW01lKFQpHu2ursPRFeUmxzrwugX+I9Pv8And8bhTulRXNmGoetv4MbNm7j5xjVcGexF/8V2VJpUKMqE4LJvYW9vnwwuAZ3ZgjL6nTrKAoo1R/87jzuTZp3gyH9jbhz3fvcRbj2cwdMVL3Q1HWjrv0p29CbevHkd164OofdCC1rrK6FKBRH07GBtY1OQc1xpQonZhGqK/jlzzEf2eFIyaZ7LwT1Rzs15zIw9xH/8/ve4P76AxZ0gFMV1KK9uQt9AC2qqSmDQkI2fsUw6nYoi6rMTQT/F5+R4bz2cwOjSHpQltajrvITrb75D+vImbl4fxlB/N3o6m2ErLoQi5sPG6grsdif2iBb0JjMqqsuJjBTQUDtqfF2ZdIJ0I+hcw9PxMYxS4JYoIX/fdgnvvPsu3nrzDVy7chlXLg9haOjlNjg4iCFu/X3obqlHo81EAY5G+OCj7Gk4lkyaA3Wes5CIURbNhLsGzG8QYdN1lDYBPQPA9WvAYD/QexHo6gb6iaivEGFfocfuZkBLn2eyJhliY48+yxPMKDM/qxA3JhlDxL+PzYVZPJuewfjiDlyhOIr0FLUJZ5IRgcrZg5QDMBlFfXvY3VjCxOg4Vrc9CBdaUdveg+Ebb2Dk6hVcHuhHT3cXui/2oKdvEFeGR3D1yhDpTCVKNGnSt3Wsr2/SZ93wh2NglTm9eQD/8gOkElF4dzexvrSIydklOEMZ6Cra0Nk7hOvXr5PNXEJ/z0V0kyH19F3CwOVhXB0ewEBXE8rVKcSdW5RVz2JjcwfuUAKxM2ZIInsmp5aKRxAJuLFDGeEskfOdL77AnftPMLW4DYebApVcLwI7Vfrc2TSlNJKxEPa3V7G68AxTz5aJcDNQ25rQ3ndZBLnXhol0LvXiYnc32VGvZEdXRzA8PIjuJiuMhUFsLU9ifnERC1sueIJRyqZZztnvOLWQ7ClJfjbkcyPkDyIWP6DsuRyNrV3o7b/0EiG/2pig2f9cbGtES3kJzETQHJLnU4/y2t0tSJoni20Rya4DK5RRZygrbrpERExZ9M2rACVCaK4H6qi1MVHTa9dvAMN0TEUxEPMCC0v0+V3ATySdOMMkzQp0kIwg7HFgaWoUE2OTmFj3IHCggLXMQNmIEhzMnk2SlpAmkg55trG9OofRp5PYpqxYZWtDz5UbeP8b7+M6KUbvhVY01tWivr4ZjS1duHT5GunMG7jS1476Mh1iPml8bXlzD75QlExSMs3TC3K68RBc22tYXVwShBMqMKC6kxzryHW8c/MaLnV3or2pAXW1dWhq7cQFIu+r10ZwY7gPraU6qEP72JifxeamHa4gkXSCpXKWwF3caTHrPUj2szY3hsd3PsW///sn+PT2UyxseuCNJMl2zrgBCaRIDgE41hexPD+H2SU7AjCirJXI59pbeO+9d3B1sBfdHc2oZztqaEYzOd+BkTdw8+03cX2wFQ3WDLxbM1hcnMf0yi5c/ghSZESnnqMFMhTMRRHy7iNMJJ2IZmA2l6GpuQ0XLlygQLcLnZ2dX9E60NnRjpa6KtRYuMtbLcai87lmIq8kzXeUZ3VHwwDJRDhLXmJVVgGYjUCxGpQZ0mF88/nu03UqlIDBTNl2GWCiY5mUQvT5IJF9JEHqd9Z8Sxa8TITHHD2OVawtTFC2tIgtTwIltRfQ2tqC7oZSlBooaiugTPqMmMpL4EsiGSTJye7vbGJ7a0dcf6GpEs0XL6GtpRGNlRYYtGqhM89BBqLUGmG01aK1awCDQ1eJyCkbaKlDlUkLrbpQzGU4tSITckmTaCgbTqaQUqigMVagooayovY21FZaYTWooFYedhLkMgoLUWwwooTH0Eq00GszSKeDiFKmGY3TeSjrPBuQbm6aHEzU68DK5BPc+ei3+OSTW7j9ZB67YTX0FU3oo6yxubEWBp0aKh6OOK368AdBF5ZOCDtyOvex5woiGFPBZK1G+4VuNNVVo9KiRxFPHsw6Xik7LoBKo4eBMsqGhkbUVpdDV5iAd9+JxZUtOL1BRJK8tvqUC44v9iBJQW8Ufk8AwdABogcGaHW8VLEExRoV6UfOx56Ma80rSfMlsi9IMbkmpdc0RYCeCFqnpb+JkF8aCqK/C8h+tJRB64mgtXQMO+Q4ZdAxOgf30J29uVKSMvBEBp65y928i3PTmFvbhTeuQnVzF9pbmtFWXYKSYu5aYQU6exBSIONJxIJw725jd9cBR/AAKnMFmjq70Vhfg+pSXnJWQLIiI0skSC/iSCSSOCjUQEvHNbT3oH9oGG+MXEFfZxNq6fjioq9njftRQchF8qIUsaqhNZaioq6VMp92XOhoQU1FCUzFSigFSUu6JDSEMkYVGZuuWIdinRJqFRHZATnvNMmYi53kznkmQJlRgkiaMuh1sp2nd+5gdGIOC3Yf0toyVDV14lJ/D+lQFemD+vnSvDMLusfJWARutxf73giRqxrGEgp2W9opqCtDqVFLdnR43gTpAgW7hWotio1WVNfUorKsFNrCFBGZG2tr23B5mKQPKJs+3XpDnjbrZyLweX0IRA8QL9BDqzdT4miEppBsR/iXOOKxOGJZH5OkIPlw0SQhBja5wy1PyKu28u8uJCLmIiVMzgq6MArw4N6nzJiy4xhl2a+SLl88Z95c8CRC2TOPg+joszqNROosw7OHDKIBN/Y3FzE1NoGnk8vwFlhQ2nwRw1f60dFUDVMROdqzefFZcKASQyLiI+eyA1/Qi5SqCObSUtTXVaBETwGKmFDnhcflgH1rHRsbG1jfsMPh8iGUVEBfSdll/xW888HblE33oqu5XDgknjZ2qiVXQPdeZ0Z1aw+Gbr6D7/3l9/CNd0cw0FmNcnPxl8fEMuSIyFFHA174XPtwe6MIxxVQaowU+BaTLfGwyVkiKgpAiKTDXhfcpAt77jQMlW3ovfYePvzWt/DND97CcG8rastKKEtSiIIuZxZMIFxNLJlEhALZCPnYFChT1JphNZnIl2Z7ol4rggKSDelaUTHUWp2YAJkMUia+s4ugP4gwz4ZPn26SFrZBfiYeDcLjdyN4kELKQMG/iQIUnQKpiB8+Xo62yb6F2vom7Lt72Pf4EY7GiaylqmzHifySNJ2dgn8YLYCVq4jpiZSJePc2gK0tag7AS2QcpteiUSDkp+dOYJve29wGRTn0eSLnijLAZpa6x49hxvuxQIrGiJjSpCSJCDyOTaw+m8Ls3DpWd6PQWOtR396FngvNqC23iKpIyjPuXHjSWDwShG/fjUCAlEKphZ4MyGpQk/F44dhcxtKzaUyMPcGjh/fx4P593Lv/EE9GJzG7uC6WImW0JlTXN6C2thIVViOKNeo8j+nkD88zaKJhrgplqahHc2cPrl4bxqXedrTUWGEu1qCAI/xkgrIDyibDYQR8+3A5trG+soLllXXs+ug9pRHW8lqxhMRUrKLMmqXC5z/lTjeLXO9Bkd4Ca3UzOnsGMXz9Bq5fu4LB3gtorilHiUFLBEVElP3MmQXdUtYd7po+yLBcVES4GlHkh4lXjKHyuHy28cML0PPnBW8ySBKZRbx7CAVDiMRP85K1rK6zrSRiolqf1+em4DWCVCFl01Efcc8GlufIvzx9jEcP7uP+vXu4e+8+Hj5+itHJGTxbXMWGfQ9ufxgx7sHL+vB8I7/6SvdZQ1l0ZT3Q0gJcqKPn5Hs3xoGnj4B7T4CFFcC+Q8RNhL2+BMyOAuR78XAMcBFJG4mg+y4ArTWAhTNyTovODMiQkhHE/DtYmR3H/Vu3ML8RQEhZjfaeIQwN9qG5ykKOWPX6wPdMgbMhypRDIfhdYUR9B1AVUAZAzkId92Jj9gm++N1v8Ot/+B/42d/9Lf7b3/w1fvKTv8L/R+2v//an+Nkv/hm//eQOHk0uYpfXwMalGYYvO6BTCroIhVIlSjeaLaWoqq5Chc0Ci6FIdP9neM1nKAi/2wXn7hZW5iYx8eAWPv30M3x6dxSr3gMoKOi7cGkIbS0NKDdpoFWfLapSaQ3QVzaj58Y7+Pb//V/wve9RBv3WVfS21aPSanhePpd96mmlmT8KrPBcJYzIuEipRBEFJUokkabsMRqLIUVJwf9uNsIBzwuJR6lFRNCcSvoRjznpsyHETjVJS+DNNBJ0LZGgF163G9GABwdhN7ZmH+PhJ/8Lv/rFf8d/+9u/wd/89V/hr/7qJ+RffoKf/A35m7//OX7xq3/D724/xsyKHU5fWPQqHANH54+k2TeyvohMmoi2oR24Mgy0E1EbUpQpzwFf/B746F+B3/4W+M1v6JH+/rffAY9ngF0i89JGoLsfGOgG6iqIoCmLFj2+LJjTbmkchaWSCHv3sbVIUdr8IibX9nBgKEV910V0dTRT9G+DQas62xl0FqzsaSKbJDmSSDCBSJicSTINL5PO1GM8oWj24egMlu1u+OMZFBZxVTEl1AVx+J2bWJkZxYPbX+D2FxQBj85jzb6PcOIASXIqrIfcTjN4VrJCUQglkbVUTz5bVzmTIEezj82ZcYzd+hQf/8u/4l//5SN89MmnuEdyWNqLQmmtQyNl4AM9HWistkFPhMXd3WfEjKgVoFBVBJ2pFBW1dWgh26mtqYCthIhbK00Uk2bgng8UFKqgIvuwmIwUyGlQVBhFKOASdaD3PQGEoykia6JqSXjigTVB9GRR5ux2UrbociESiSGRIJvk7uFkEvEUb+5zuicc8gTdZCQkZnX7PexrKCCh5/t7e9jessPlCyFK8b1KVwytlmSnzCDud2F3dQ7jj+7iDiVSn37xAJNza9j1cmU28lOSGPOG/IXTbBHUuP52cSlQ3wFcfwvo76TMWkMkPA98/hHwz/8A/OxnUvv5L4F/IsJ+TO956OMNF4HLV6n1EEkT0av5fOLkZwBibCSOgNtBBDOO6bklzNiD0FTUoWtoEBc76tFYZhLd3Ge+e06AnAQ5gkQ0jjARdDScRCoeg2N9CZMPPsO9+4/wYGIZjlAGSlM56ps70MozvmstUKf9cK7N4Omdz/Hp7z/HZ3fHMbfqgD+WJgeTR+vJM7jLMddeD8mxRjwOLD+5hzv/8r/wjz//OX75D7/Cr/7lE9wleW35AHNtBy70XcLl3jY0VVkPDZ3k2mkG/34F+RlyqIYSWMttqK4pQ4mJa3IXinKNYqbu6VWD/0OQPCiQY5IutZhhM1Pwogwj4N0Rm3vsOr3wR5h4XyFbYhlRoyDkg2NnG47dPbJDJmciNcq+E2J1Ae+WlT3+VIKuMU2ZNJFyxB+Cz0PJQCBOJB2GZ98LlzuIhEILfWkVGls70N7WgrZ6rr1wgNj+JhbG7uPup7/Hv3/8KR5PzGPdGUQgmsy7auXN/2eDNF49QkIA/G5prNlBj1x+LUPkrdNLM72NZsBEzWDI1umm7JuLdvNnKKiDixg7FKVM6wzYmhiL5mguFsD+NmU6MxO4/3gWrogGZa2X0d19kQKZBpSZi6VlNfT/ab/mPx58pRS8UEumKEoN7MCx78LmfhKWhh5c/eB7+O73f4i//MEP8N3vfAd//uffxw9++CP85fe/g2+/dw29DSZo4nuYm3iEsckZTK04sB+I5D3S/VrBY2x0gWkoodDooDdbYCkthY1aCe8GVpCEb3cdq/OzGJ+aw+rWnnAsZ6ZcqowXyOl4gQoanQmVja1oIqJppUC2MOzE6tg9PLhzG5/deoCJ2QWsbGxjx+HAjn0TW2tLmHr6EI/u3cPT2U1suMJ0GgrmVNnFSMKAcu0UIvvTeUZCAa8GMVlR3tyMtr5BDI68jW98+3v4i//rP+PHP/oR/uKHkn/5LvmX7//Fj/CjH/0FfvDdD/HmQBtqia/8m3OYGhvD7QdTWN12IRhPI5XHYYC8Jml8X3n5VZDI1kEEvbxEGfQ+QJwNHZFyRQ1QW0dZdv2LVkuvlZUAWkqZA3TsDn1unRoFOmIbPtFLw+cW33DKkFV0kf2QUHZWn2FhbgYT89sIFxhR1zmIC7xYvqkaFoNWzOY+P510DEk+/F+Kx9Ai+/CHI/AmNaho7sGVm+/j3Xffw/vvvoObN9/Am2+9g3fe+wAffvA+3rt5FX3NZTAWhLC9OInZZ/OYXd3BvijCIJ3zzEGIi2fkqqA2mGEqq0JNQyMayfm0tDSjvqYcpQYl4j47NpdmMTY+hQVeTkMyEbtjSeI+1eBOhsNNBqFACZXWiLL6ZjS1t+NCSw2Miij216Yx9eQBbt++iyej45icmcX8wgIW5ufwbHYSY0+eYHR0Cst2H7wxXgKrFGP5Z0Gsz1Wdx+vVxTCUVqL+wkX0XL6KkZtv490PPsQ3/+zP8OE3PsB775B/eeMm3nzzbbxN/uWDDz/EN95/G9cHO9Bk0yDh5glmM3j0lEja7oI/SklXHrsY8lq7+yBL0AtjwKMHwGf3ATt/lQW4OACMcM3uK8DgJak0aGcb0NZEb1M2XZgkYnZQI6L2EatrKeu22gAVkXdu8thRGuVx1e7m0oURnwO7G/N48uAuJhc2sB0uQuPFQVy9dg3dLdWoKTXQNXI3N2WVlHXvrc/CvjKLhW0/vAk1qtv70djQgLbqs1O7mzdESIb24XFsY3Z8Buuk/HvRA1jqOtHadxVvXBvC5b52VFl5nJG+m+8LGRyP0WqKNNCoVWLruUjAj61tBwr1ZqhNZaitLEVlmQVcFIe7Po8Kx127+6vAQZyiUC3WeZbV1aOxg6si8RrqVtSUm1GiU4jlfT63G3aHRzioIpMNhmINjGKXsKO1I864Ts4uWBKS0QAi3l1MTFMGNLcORVE1SsrqznTtbh4iKSTb4K0mNZQNx5OcGHgRiQThdNixs72GleVFLBJJz87ylpVzWFzfgyecgbm8HGZjETRxL5IZNRJKE3r6BtBGWXm5qehIa+Efb+1uvsdsL+QzyF6sFdVoaGkXRYE6WupRQ37CqKfrVinFWnqFaEqo1VySWY0iBa+vDmPPvo0Q8UUwo0RtQx0qqipgKlKJ4ZWjAttR3mt3c9iSpGjM5ySSngGmpgCyD8RVQF0H0D8E3LgBXLsqEfXly/Q4kn2NnpM/hoV0IbhLnx0HZhaANToXL8sSCekpBJctPEhG4d3bxPriLDmNBYpavUgXW2Elw6gnh6FVHiAW8iPg460YvUJ5A7zPa4wX1KeRphaPRhAOBsRifH8giFA4hgSPF5FcTqtsJEiOUhAHORcUEpHYKlHT2onGxlrUV1pgImLhnWeYoNmAlKoi6M1lsNXUo6W1ibJHK4yqqNiecNO+I3YM4yIM3ANzppC9zwVKch6URVc0taK9tw8DQ0O4MnyVAr4buPHGNYxc6UNHbQmKM0E4lmcxR854emkLe54g4meuqMk5x6E4g21Do7eQXTSja+AKhoYGMEROtbZURwmQH077GpYXnxE5P8PC6oa021WGbMlWjebWFrQ21KKMC+GouPiLmmyOyIrsjifgScp3OvWGJ9Wpi82wVNShrasXvb096O9uR1MN7x6np6SHJxry1qXceE96FYqKTSghP9TY2oqW5jpUl2qgSEvBzt6+l3wM+V/yy/mSSl7HpGOUNXM2PL8IrOwAESZoIt+bb1H23Au01wPlVqn8J49Hl5QCJDtcpMx65BowQGRerpO2rlxcBmaJ5N10Tl5ccypVJJ0Q2R53cz+bGMP04g52fGnozFYxDp8MOMRG/kvcBUVtcZEi3cUlbPBewTyTMJpAIh5DwO2EY3sDy0tLWNugqNjpRzASP/Vj9tIkKe5B4GiXIrQichIUVZfVVomJQMWUEby2nouCDEujh6XMhjLOHvUky4MwHH6u1xxFOHEGyhl+FVhe3Jug00JHWRlnZkYel7ZVobmjF31DIxghY+tqsEGb8sK1s4GZxRXs7PsQShzkdSxNxtcJMhQFZXcmG6pae3H55nv47ve/j29+4x28PXIJ3S21qCbnazKXoLK2GR29V/DGO+/hGx++i2v97WipsECdJFJOcZlMHdQqaVtGjp1PM4SP4eBeTcGtVgetVgtttgrd61yLBJ6YSAGMxYbSilJUVWhRpEojEgzBFwiLPexzJJ0P5I+kKXOJEqH69gAHEbU/AmiIhGsagQttIAUhcs5OEuNeU24UtInqZNYKoJaOa2sBqugzKfrsnh1YXZOKnyRPKRnxFowJImmnYx2bG4twuPbh2HNid20O4/e/wEe/+Wf8+p/+Eb/85S9F+8Uv/0HM1P341hM8mXdgdz+EoN+LjWejePzZx/if//RrfPTxbdx7uoxtZwBxkvnp9blZ4yGF0GoLoaFWoFZBqS1CkZ6chJreIysSWbY4WjI46QWJqIoo8tfpi+jzrB9ccSmOWDIplpvwdLTTh4zo9uIhknRKKmUYCQdFF1g4yo6BM2G+fHIi3M1OjbvbVWRIao0WerMNtso6NLXUo76WHLI2hWjEJ/Yk9wQjiHLwkrWlU6s2Mr4CkpVwT5PWQMRS34YL/cMYufkO3vvwm/jmt76Db1H79je/iQ8/eA/vvnUT14cH0NvRJNbRF2aS8MdSSEBLmScFeLwkScPL/k4zS/PsbrqmSBhhvx9et5dsKYxIXPIRUjckG1TOr7xoBZRVq8imijgY1vESRi5Fy2vKyS7pMZ97++c1k46HgJAHRCxEtPSc10tXVBFR06OBHCkPA7EMXgI9J72CvoQIuhaUGRGB08sBOs/uFj0S8SdPKRkdcOH7mB8+vwNO9w6CYR88e1tYGruLz/7t1/gfP/07/D21v/s7qf30p3+Pn/7s5/jtJ/fwYHYHdlcAAa8bK1MPcfd3v8Ev/vvP8evffIpbD+ex7vBJJJ39rtMG1gOFipeOaIhoKQMgklbwxDlqPDYkZdlSEwdzOwR+XcmfZzKnjJt4m7JnLuF32ieNMVHzBhtJxCIhhAI+eH1e0p2I2G6SrzGHL8mnsEgU+SitsKGswgyTUUHnisMfoPNEKYAhkj+zPQznFDkdYOsQjQyhQKGEzmQVXd8X+q9SxvxNfPt7P8aPf/z/4L/85x/jB9/+T3j/zau41NWCGpsJqkwMYQoGndEEopRFawzlRExE0kW5sftcO2WgzJH3SIgFffC5KDmy2+Hc98Abiglb+t9ZgrhiHmITATH5JH6Bi5lwlMs2lEczyn9YdOh+8rVwwCKu6Y+8KHEc+yFqnJ3z0z/yoycOBQrKDDXkNCub0dI1gEuDV3BlmMeLBjEwcAmXLr3c+vv70d/Xi46WOtSWG2Es1lCGqYOlvBb1LR3oofcuUOTbWFsKM2WQ3BWcFfXpgrihUtRfpDfCXGaGwayF8iCNJGV8YS/v+ZoUPShf5hR+gYwvnUYsHEUkSOQTzkCZKYSJCZ+IW83FLE6nZAS4pnnYv4vVmfu4f+vf8T9/+2/4/NEU5nkWbjjxFTaRfZUMKE1Gx01E++TAFcpC0kV25uKpjDMEEZSSo0yl4gj5iIi2VjA/O4XF5TVs7lFwF0tS8EbBrOht4VKhGqh5EigHwhQMpuJheJ0OuFx78MXiKNCTv6GsysjjtVxAhxXm9Qp38pFJUeLohn3uKZ5+/hF+9Y+/xG9/dwu3J1exte9Hguzj9f6FZErBMG9vGePhswDvIlcINfncYgM18stKZf48TN5Imu8lDysqVZQZ0yM/J70RO1pRgCZtOZm92TlnwY3BZMxbXCbo2CSvqabXeMIsn4d06flxpw0FCjWRtAnltR3o7BnB8MgNvPHGDdy4fg3XRkZw9erVl9oIPw5fRu+FZjRVmmA2aEW3U2lNI5q7ejF45TL6ejvR1lgOq1ELSiBPMRUReQiSNqGkzIqSEgM0ZFTJQBA+pwehEBmI6N6V8mJuDA7ihAEl46KKUNBPpB4hwi8ogqVYL/Z7LSKlyfPk3Twh+6PTHP27sb08ifHHt/HJ7z/F/dFpzG/uZzfjZ8f8Qi7Pi3dQkMPd5LEIZQo8n4FsirMqDclEnatYxueXccZAQVkyhpB3Fztr85gaf4yp2TksbjrhpSD2oICCVnLMXLlOql6XzZAPSM/Cfjh37dhzuhBIHEBtNJK/qoSZi8OoeTLVadUYtg8K+mNBeLYWRWGSzz/5GJ/dfoD7k8sUwPgQ5Z6p1/kX+ifNG9aEyL/4yB/5knScEjqDHkaTDga9Rkw2Y8nkQzr5y6Tp1xbpAaNVKlbCBBJwAHT/xcYavH/CayeA0QtMzkEfsLMNiuikrvJiOkdZNaAvliqPnUZdKVAWQVVcivr2IQzf/Bb+7Nvfww9/8EP88Ievbz/4wfepfRfv3qBMu60cFVY99KYS1Hf2Y+iN9/CdP/8OvvHeNQz3N6PaZgSXYz61NkSRl4LkoykuQVl5AypKy1GipOzYvYuNpQXYd/exH4gj/qUiHBT9cv1zIjH71ha27Ptwx3gGpw01VbWwmgzQaci5vHbG2emAyHrpOnn7QZ9zD+uLC5QdLeDZwhp23QGEkxlhIy+DAppkWJQM3d20Y3t7nxw02Y5GjwobBUEGnVhKc3qdroyvRoEg6aBrHSuzD/EfH/8WH396C589foaVXY8ol8u9tC+BMqN40AOvYxOLS2tY3/YiluHlUJXoaKxBmdmAIl4WemrVhW2I9F3FhUx0UBUpEA/74Nhcx+LsM7peJ5x+8i88lvoKeEe5eDiAPTp2Y20b644YkjCg3FaDCosFNkqQ1Ee4/OpV5DWTZpI224CqKmkHrLSfiHcdmHkGEgoRsJfIOCztgBWLARH6OxQA9ui99RVgcRVweIjg6bNllUB9HZ3PQNk5nZt1hfXsS77pBIOzGKW6GJayOtS3dKOruwd9fbwM4HWtL/veRbQ316LGRlmhTkNZkBYl5TWobWlHV89FdLY3oqGmFCZ90XO5nDpkf3cBL/XQmmCr4l2s6lBnK0ZhzIOd5VksLVD0u7wFBymNn5QmGo1Ri1B0G4CHFGZrbRkLiytkQH7EVCVCRs31tSglhdE+nxV+2jRGAhcr4aEAHhfk/W7TIS85jDXMTU9jcWUD6xTAePwhhCNRxMmQojwxJuCHa2cTm8sLmJsjuWyTXGCE2VqJlvpqlJVw96VUHlTIXvoqGacah3SbU8B0HBEK0nbWSAdmpjE6No355Q1sOz3w8bJOsqEY18qnDDHgpePWl7E89wxzi5uwexNQl1SjmuywvYG3fCViI10RS7BOncJk5VJQKPbMNlhtKCm1wKRVirrcW4vPxCqa+VXyL/teBEIU9LNs2L+Eg/C6dmEnQno2O0c+aBuOsAJF5go0t7ShptyGUvK9au7izZN/yStJa4hQySegow1oqaEsmFLn7QXgzufA41Ei6yV6zgVLiIi9RNj7eyBhAJNPgft3gadzROpE3CYi+eYmoKuRzkfnPMVJkUBucgdPQvjqJh3zcsuegCA+f+j1w++dXkhbMlprmtDQ1oaeCzUwq8Jwr0xi7OF9fH7rHiZml4hwHNh3e+AmhXHubmJhahRPH9zDo/F5rLoiUFMmXtfaiq72esoA9FLPS/YbTh/oxyu5LrUVtQ1taGlqQqNNh5RvG3NjdM2Pn+DB2AyWN3jNphseMqR9Jy/lW8XM6EPcv/0F7j2ZxaI9BIWxHg2NHejvbEW11QwdRXWn3ZZkvA50XymoM5HzLSuvQqVFjwMio3Wyk6mJaYxNLwobcpENeb0esXPaFlekIxu6e/s+Jpcc8KR0qGjtQmtbM9pqrNJ+7tmzn1oUKMRe2aVVTahvbkcnV2JTxuDZnMXk6GPcvf8Y0wtrWN9xEid54Nl3iS1fl2fHSTZ38cWdJxhf3EFQaUEFff7S5T401pajRMfzXvJnSPmpOMbBBP1mJg7iG5Hh8YB8JEQtInVhhyljdjql7u/NDSlznpsl4p4iciaSnl2kLJqOLy4HuoeAkStAPxc44WVbPMbN35OVS/bhT8JxVBx7mXD/cBMDAq9UHPMl1ajpyFYcI+PhimNibFF8RpL5UeLYKo7lfjw1Pq+iIANVQZKywgj8nn3SmyhcZDQ++ttBSmPf3sTywjMxKWb06RNMzixgxUERnbEaLX3DGBkexGB3M2xGykC5tOFLcvnThXQsFccoG+JfKmboslwoWucqROk4ZcokF4/bSdE+BTF0X9xEzPbtLWyurWDh2QyeTU+SHT3FFAc1rhgRdDWae65ghAyJK7ex49YXqcR5c/jTpcI/Wa449jocb8Ux8gXkhHmIJ5VMIEnZoM8XhHPPiXgiBjfZkJuzw60NrK8uC12ZniAi4kx7zQFfgRG2pi4MjFzHlUsX0NFQhmK1kjLprI68bEx/Eo6r4hj/ZMlH8ppntdDTgkwSoTBvtLEveqA8brfYi53H5He2N7C0MEf+hYIa8i/jU7OYW3MirDDA1tyLKyMjuDZMJF1RIgUwrD9ZsbD0/1Tw78tVHMtbWVD+mQryVZQEiE00yKcjFQU5EyLkZcqQiZyX6XF1lR6JkBfnKYMeBykKKJqhDJu7uS1Aaw/w5tvSdpVNvF0lnUfIIyuTP10cEo6rLOj/ETJpnJeyoDmwIRWqi8QG9RaDDvFIACH3Djn8XayurGCDIrqVlWXSmyXMzkxQZjAuNo5YJoWJqmyobuvDdVKYK30daK+1ZndCyp78CDXmWEj6ObjXRQmNTg+1WkUZ8AGC3n3sba9jz7GDVTKkdZLL8tIi2dIcpsdJJmRIk0TQa3sBJLXlqG3vw7U338HVgS50NZXDUPTl8eijkIxM0q/H8ZD0i0CdlwvxTlgc2GkVaXj392DfXMYu2RHbz/rGOpYWF8jvUhZJujI+NoG5dQf2Y4UoaezGxcFhvHlzBF0t1aigQDc3LCLAX3BEOB6S5t+bbQWFxElaqEgXjQa12PXL57Rjf89BAe4qtrc2yc+Qf1kh/zI9QZw0hrGJGcyv7sCT1MBcSxn0yFu4cfUShroaKGnkIi9SEJ37Dv73T8WxkPRz0C8WZK0GDCaghIi3ogwoK6XnOoCSHDGbO0lJYwEdoyuRCpl09wJXrgLDlEX3dgLVdHwx3bPDAjhCXTmhJM3rfFPw7m7A6ySiott0UGRB44V+NBNJN1EUp6UI90yQNCmlBLoY/p/Hj8iYuHvKYitHKX1vqbWEDKsYagrp0wcUwBQoodQaUVrViJYLvRgYHsHwFcqge9rRQLIx6dSimzsnnsNZ45+K4yLpwyNc7Hh5GV9RsRHFZExlZTbS0VKUGLnQBMkLPJs7BQVFxjqDFZX1LWi/eAmXWS5kSAMslyoLzBz5S2KWkJXLUUjnJJJ0Kh5BPOTB6sYOdpwBmEqbUVXXhN6+JlRVmMX+2mclk36hL3w9UubINqTWFcNK32ct5frUWmi5N5L8S5r8Lq+lN9mq0Nh+Eb2DV3B1ZBhD/V3obKxCmZGra72sz0dpR8dD0pJevoAkFy5OoiHZ2ErJt9ioWcwwkWzIpYolnRmeaMaVDCtqSTZd6BsaxtWrwxge7EFHQyVsZp3grxeqI/1xFNLJP0lL+vG88Z7S2mKQo6XGpT/p0UzZtY7ugVhWRY0zbpON3qsFOilrvnQJuDxIZN0BcriHip/w+bM4+yTNywEOEPa5xOSOcIYMxlSOpvZu1NdUo9ZmJANSkFyOUBCv4LhImq/gReOZ3mrKHI2ixGVFZSWslhJYS4yihJ+KvpcrAOkM5HBKq9FCzuVi/yAuXx5A/8V2tPA4kaFITHR5KcLlhyPCsZD04R9Mf/M1qyk7MpiJmCnarSRDKjEZYaDoVaMshIp1leRmshJ5V9Wj9UIPekguQySXXpZLXRksvFSPuy1fOjVL/GhwEkk6nYwjlQjD6Q4gFDtAaWUTaurr0dlZS8kCTyxUUNByhMrxGhwXSbOeS40fFJQcFUFnooDVXIKKChtMFOQWa9mGpM1pxETW8hrUNLWhu49rN5C+9Hejs7kWFRaDNFSU/U8ozRHqCuO4SPplFAg7KSL/YiL/Usn+paQEJbwWXKvK+hdeYkWkba1EQ2sHLvT0Y3CIAt2+i+hurUO5he6bmO1O8mCxiLMenWwOk3TB0lJVpqVlJ/vW0SMXwND38fAqomFpFjfZMDk5IBgCeH09r6xR0j3hsqBmyriZxI1M5ETO5JfF2ParAjhKu4pGleRUDLDbL1J7H83Nb5IR92XXEVKU8TWAixJwJu132eHds2PXE0E4rURJRb3YL7iihLPKwrySdCQSwdbWFpaXlzE/P4/u7m4iw8tH73RzipKF9IwcPjvYeIwCJz8CpDBeHz2GwqKOeYaySp6tyQ7IbDLBTEpj4NKgpDBiA45X5HKUYmK5bG5uYm1tTciG5TIwMCAcC+vMUeHlDCD7nJfLkCHxeLSfnJsIFgJBRKJxUSpUqaHfQBmCkeRiMprIjgzQU0RcpFFL3ZavyOEoM6M0ZSDRaBTr6+sYHx8nYqhAa2urIGp2wMeKrOxSiahYbrO5tYOtXRcKVBbojFbU1VPQQo6ZZ//n04YYHLiEw2GsrKzgyZMnIqBrb29HeXk5TKS7R4Xn2pLTG+FDSF9ipC+REHykLxxAcdU5LoeZTFOmTRkU1303E2GZOejT03MRDOdsKCublx+OBDm5rK6uijkUTJgsFw56j1Qur9iRkBT9n0pwqeYokaGPGtmRnwK5UERsaMTZJU/AMxARGdi/UDPodRTkUAIgNhuRzvRCdY5OMkzQLJvt7e3jI+kc+DL4NQqexF7TSSJuJmh+jbvFKYAR9bw5w2Zizgni8GmOThQvcDJJmq86S1QJyQGnMwUiOuYqQTkjOkon+yqOjaRzyCrM8/vN18avia65FBKJhIi8udZuhidUkcKIogykMNL2lZIssqcRyId4joukc3jVyUhiyYju7RTJI5FMkFHzTmgZMX6toGxA6C5lSzyBKEdCh8+TD705iSTNxW4OKEOIxeOIJ8jxFHBvB29xyvKRnG0+bYhxXCSdw1frC9kO6Uoia0MHB5xVUkZN9qPmHa9Ib4Q8shYo/SvJJh8iOi6SfoGX5SKulOSS4cI/Wf+SIlIStbzZv5BP4epsKpIP60qudvlh8eZDLodJWvrG4wZdFFci01CWXMwFTyhj5vthoL/19Jqa3uNlZ3m49lMIqWtGrdWTrAwkI72Icl9sG3dOQAYjOVatkIORMkQTOX0jRbZaiuq4qzcX0J0fkG4UknOlzFnH1dVYJhztkyHpdVqxxzYT9Lm3I+5VId3hXY8MBilTLNZld3U6V8JhfVGJzVd0xeRLDKwvRujZhoo0zwOW8wgeShJd4KQjwr+QHXEPFOsKD7F9nf427yTN13W4scfgRw5InpcNPdQokJMIOnd8FtmPniuHw9E9NwUrEO8QRcISY8FMSGRNuffPFPh6stclmngp+zcpzWE5iEYKIzZoz8ojB/4z184Cnssg2+gV6W9BQIWHZCL1/IixcX7v+fESXj7HGQdfY+56s7ojyYh16AzbECF3XS+uL/u30JfX2VBOHpLYcn9In8++diYgLu5Q42uTrpPrUwj/kpPLS7LJzeCWkJPJoZfyhq8nk5YhQ4YMGTJk/EHIJC1DhgwZMmScUMgkLUOGDBkyZJxQyCQtQ4YMGTJknFDIJC1DhgwZMmScUMgkLUOGDBkyZJxQyCQtQ4YMGTJknFDIJC1DhgwZMmScUMgkLUOGDBkyZJxQyCQtQ4YMGTJknFDIJC1DhgwZMmScUMgkLUOGDBkyZJxQyCQtQ4YMGTJknFAUzMzUZhobd7NPzy/icd5PWo/d3S7s7LyNxsYbaG+/KPbk5R2Fjh+5nVz5kf89hu1WXoNYLCb2NOX9XhcXF9HZ2Sn2TdZqtfnZT/qUgPdMZrnwvsm8pzTLpb+/X8iEd885r+D9pFlneK/tyclJsV9yc3MzLBYL9Hp99qjzB94bmPcgZ30ZGxt7vs+2zWaDkffqPadgfeH9pFkuExMTQl9aWlrOvVx4j2veN39nZwf/P4+EX9fAdHb5AAAAAElFTkSuQmCC)\n",
        "\n",
        "**Mantención**\n",
        "\n",
        "Al comienzo de cualquier iteración $i$ se cumple la propiedad invariante de bucle. Todos los elementos desde $i-1$ permanecen ordenados de menor a mayor.\n",
        "\n",
        "ejemplo: con $i$ = 3, todos los elementos están ordenados\n",
        "\n",
        "![2.png](data:image/png;base64,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)\n",
        "\n",
        "tanto al finalizar la iteración, como también al comienzo de la siguiente, se seguirá cumpliendo la **propiedad invariante**.\n",
        "\n",
        "**Correctitud**\n",
        "\n",
        "Como se pudo demostrar, la propiedad de bucle invariante es verdadera tanto al inicio del algoritmo, como durante su ejecución. Por lo que se afirma que el algoritmo cumple en todo caso su función de ordenar los elementos de forma creciente."
      ],
      "metadata": {
        "id": "-ifxrrqlC4Hc"
      }
    },
    {
      "cell_type": "markdown",
      "source": [
        "# 5. Experimentos\n",
        "\n",
        "## 5.1. Número de comparaciones\n",
        "\n",
        "A continuación se muestra gráficamente una comparación entre:\n",
        "\n",
        "* cantidad de comparaciones del peor caso calculadas matemáticamente\n",
        "* cantidad de comparaciones del mejor caso calculadas matemáticamente\n",
        "* cantidad de comparaciones realizadas experimentalmente para entradas aleatorias\n",
        "\n",
        "para tamaños de problemas con $n \\in [5,19]$.\n",
        "\n",
        "Los arreglos de entrada son generados aleatoriamente haciendo un sampling de un conjunto de números entre 1 y 100."
      ],
      "metadata": {
        "id": "2hYUM_9OHF38"
      }
    },
    {
      "cell_type": "code",
      "source": [
        "import matplotlib.pyplot as plt\n",
        "\n",
        "x=[n for n in range(5,20)] \n",
        "y1=[n*(n-1)/2 for n in range(5,20)] # Peor caso\n",
        "y2=[n-1 for n in range(5,20)] # Mejor caso\n",
        "y=[]; # Caso promedio\n",
        "\n",
        "for n in range(5,20):\n",
        "  a = random.sample(range(1, 100), n)\n",
        "  a,counter = insert_sort(a)\n",
        "  y.append(counter)\n",
        "\n",
        "plt.plot(x,y)\n",
        "plt.plot(x,y1)\n",
        "plt.plot(x,y2)\n",
        "plt.legend([\"Caso Promedio\", \"Peor Caso\", \"Mejor Caso\"])\n",
        "\n",
        "plt.xlabel('n')\n",
        "plt.ylabel('Número de operaciones')\n",
        "plt.show()"
      ],
      "metadata": {
        "colab": {
          "base_uri": "https://localhost:8080/",
          "height": 279
        },
        "id": "LxKv6b1WE-t8",
        "outputId": "41971fc2-751f-402c-b530-ccb790bc106e"
      },
      "execution_count": 30,
      "outputs": [
        {
          "output_type": "display_data",
          "data": {
            "text/plain": [
              "<Figure size 432x288 with 1 Axes>"
            ],
            "image/png": "[encoded data removed]"
          },
          "metadata": {
            "needs_background": "light"
          }
        }
      ]
    },
    {
      "cell_type": "markdown",
      "source": [
        "### Análisis del Gráfico\n",
        "\n",
        "Como podemos ver en la grafica, se denota una clara diferencia entre los 3 tipos de casos, podemos comprobar como crece de manera exponencial en el peor de los casos y como crece de forma lineal en el mejor de ellos."
      ],
      "metadata": {
        "id": "0LpupLb_HnWS"
      }
    },
    {
      "cell_type": "markdown",
      "source": [
        "## 5.2. Tiempo de ejecución (experimental)\n",
        "\n",
        "En el siguiente gráfico se reporta el tiempo de ejecución del algoritmo **Insertion Sort** en función del tamaño del problema para arreglos generados aleatoriamente de tamaños entre $5$ y $500$.\n",
        "\n"
      ],
      "metadata": {
        "id": "5AszHwkmJIfJ"
      }
    },
    {
      "cell_type": "code",
      "source": [
        "import matplotlib.pyplot as plt\n",
        "import datetime\n",
        "from timeit import repeat\n",
        "\n",
        "x=[]; y=[]\n",
        "\n",
        "for n in range(5,500):\n",
        "\n",
        "  a = random.sample(range(1, 1000), n)\n",
        "\n",
        "  #la función repeat está ejecutando 20 veces InsertionSort con el arreglo a y retornando el mejor tiempo obtenido.\n",
        "  t = repeat(setup=\"from __main__ import insert_sort\", stmt=f\"insert_sort({a})\", repeat=1, number=10)\n",
        "\n",
        "  x.append(n)\n",
        "  y.append(t)\n",
        "\n",
        "\n",
        "plt.plot(x,y)\n",
        "plt.legend([\"InsertSort\"])\n",
        "\n",
        "plt.xlabel('n')\n",
        "plt.ylabel('tiempo en ms')\n",
        "plt.show()"
      ],
      "metadata": {
        "colab": {
          "base_uri": "https://localhost:8080/",
          "height": 279
        },
        "id": "Ffz2Id4WJPsO",
        "outputId": "87ec7ff1-288b-4664-fb55-41e464e3abd7"
      },
      "execution_count": 32,
      "outputs": [
        {
          "output_type": "display_data",
          "data": {
            "text/plain": [
              "<Figure size 432x288 with 1 Axes>"
            ],
            "image/png": "[encoded data removed]"
          },
          "metadata": {
            "needs_background": "light"
          }
        }
      ]
    },
    {
      "cell_type": "markdown",
      "source": [
        "### Análisis de resultados\n",
        "\n",
        "A raiz de la grafica, vemos claro comportamiento de la curva, la cual crece de forma exponencial. Con esto se reafirma el tiempo en complejidad media de funcionamiento de este algoritmo. "
      ],
      "metadata": {
        "id": "8lSmgt-vvpWB"
      }
    }
  ]
}